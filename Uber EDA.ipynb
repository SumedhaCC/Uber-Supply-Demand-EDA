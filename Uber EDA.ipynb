{
 "cells": [
  {
   "cell_type": "code",
   "execution_count": 106,
   "metadata": {},
   "outputs": [],
   "source": [
    "import pandas as pd\n",
    "import matplotlib.pyplot as plt\n",
    "import seaborn as sns\n"
   ]
  },
  {
   "cell_type": "code",
   "execution_count": 107,
   "metadata": {},
   "outputs": [],
   "source": [
    "uber_req = pd.read_csv(\"Uber Request Data.csv\")"
   ]
  },
  {
   "cell_type": "code",
   "execution_count": 108,
   "metadata": {},
   "outputs": [
    {
     "data": {
      "text/html": [
       "<div>\n",
       "<style scoped>\n",
       "    .dataframe tbody tr th:only-of-type {\n",
       "        vertical-align: middle;\n",
       "    }\n",
       "\n",
       "    .dataframe tbody tr th {\n",
       "        vertical-align: top;\n",
       "    }\n",
       "\n",
       "    .dataframe thead th {\n",
       "        text-align: right;\n",
       "    }\n",
       "</style>\n",
       "<table border=\"1\" class=\"dataframe\">\n",
       "  <thead>\n",
       "    <tr style=\"text-align: right;\">\n",
       "      <th></th>\n",
       "      <th>Request id</th>\n",
       "      <th>Pickup point</th>\n",
       "      <th>Driver id</th>\n",
       "      <th>Status</th>\n",
       "      <th>Request timestamp</th>\n",
       "      <th>Drop timestamp</th>\n",
       "    </tr>\n",
       "  </thead>\n",
       "  <tbody>\n",
       "    <tr>\n",
       "      <th>0</th>\n",
       "      <td>619</td>\n",
       "      <td>Airport</td>\n",
       "      <td>1.0</td>\n",
       "      <td>Trip Completed</td>\n",
       "      <td>11/7/2016 11:51</td>\n",
       "      <td>11/7/2016 13:00</td>\n",
       "    </tr>\n",
       "    <tr>\n",
       "      <th>1</th>\n",
       "      <td>867</td>\n",
       "      <td>Airport</td>\n",
       "      <td>1.0</td>\n",
       "      <td>Trip Completed</td>\n",
       "      <td>11/7/2016 17:57</td>\n",
       "      <td>11/7/2016 18:47</td>\n",
       "    </tr>\n",
       "    <tr>\n",
       "      <th>2</th>\n",
       "      <td>1807</td>\n",
       "      <td>City</td>\n",
       "      <td>1.0</td>\n",
       "      <td>Trip Completed</td>\n",
       "      <td>12/7/2016 9:17</td>\n",
       "      <td>12/7/2016 9:58</td>\n",
       "    </tr>\n",
       "    <tr>\n",
       "      <th>3</th>\n",
       "      <td>2532</td>\n",
       "      <td>Airport</td>\n",
       "      <td>1.0</td>\n",
       "      <td>Trip Completed</td>\n",
       "      <td>12/7/2016 21:08</td>\n",
       "      <td>12/7/2016 22:03</td>\n",
       "    </tr>\n",
       "    <tr>\n",
       "      <th>4</th>\n",
       "      <td>3112</td>\n",
       "      <td>City</td>\n",
       "      <td>1.0</td>\n",
       "      <td>Trip Completed</td>\n",
       "      <td>13-07-2016 08:33:16</td>\n",
       "      <td>13-07-2016 09:25:47</td>\n",
       "    </tr>\n",
       "  </tbody>\n",
       "</table>\n",
       "</div>"
      ],
      "text/plain": [
       "   Request id Pickup point  Driver id          Status    Request timestamp  \\\n",
       "0         619      Airport        1.0  Trip Completed      11/7/2016 11:51   \n",
       "1         867      Airport        1.0  Trip Completed      11/7/2016 17:57   \n",
       "2        1807         City        1.0  Trip Completed       12/7/2016 9:17   \n",
       "3        2532      Airport        1.0  Trip Completed      12/7/2016 21:08   \n",
       "4        3112         City        1.0  Trip Completed  13-07-2016 08:33:16   \n",
       "\n",
       "        Drop timestamp  \n",
       "0      11/7/2016 13:00  \n",
       "1      11/7/2016 18:47  \n",
       "2       12/7/2016 9:58  \n",
       "3      12/7/2016 22:03  \n",
       "4  13-07-2016 09:25:47  "
      ]
     },
     "execution_count": 108,
     "metadata": {},
     "output_type": "execute_result"
    }
   ],
   "source": [
    "uber_req.head()"
   ]
  },
  {
   "cell_type": "code",
   "execution_count": 109,
   "metadata": {},
   "outputs": [
    {
     "name": "stdout",
     "output_type": "stream",
     "text": [
      "<class 'pandas.core.frame.DataFrame'>\n",
      "RangeIndex: 6745 entries, 0 to 6744\n",
      "Data columns (total 6 columns):\n",
      " #   Column             Non-Null Count  Dtype  \n",
      "---  ------             --------------  -----  \n",
      " 0   Request id         6745 non-null   int64  \n",
      " 1   Pickup point       6745 non-null   object \n",
      " 2   Driver id          4095 non-null   float64\n",
      " 3   Status             6745 non-null   object \n",
      " 4   Request timestamp  6745 non-null   object \n",
      " 5   Drop timestamp     2831 non-null   object \n",
      "dtypes: float64(1), int64(1), object(4)\n",
      "memory usage: 316.3+ KB\n"
     ]
    }
   ],
   "source": [
    "uber_req.info()"
   ]
  },
  {
   "cell_type": "code",
   "execution_count": 110,
   "metadata": {},
   "outputs": [
    {
     "data": {
      "text/plain": [
       "(6745, 6)"
      ]
     },
     "execution_count": 110,
     "metadata": {},
     "output_type": "execute_result"
    }
   ],
   "source": [
    "uber_req.shape"
   ]
  },
  {
   "cell_type": "code",
   "execution_count": 111,
   "metadata": {},
   "outputs": [
    {
     "data": {
      "text/plain": [
       "2650"
      ]
     },
     "execution_count": 111,
     "metadata": {},
     "output_type": "execute_result"
    }
   ],
   "source": [
    "uber_req[\"Driver id\"].isnull().sum()"
   ]
  },
  {
   "cell_type": "code",
   "execution_count": 112,
   "metadata": {},
   "outputs": [
    {
     "data": {
      "text/html": [
       "<div>\n",
       "<style scoped>\n",
       "    .dataframe tbody tr th:only-of-type {\n",
       "        vertical-align: middle;\n",
       "    }\n",
       "\n",
       "    .dataframe tbody tr th {\n",
       "        vertical-align: top;\n",
       "    }\n",
       "\n",
       "    .dataframe thead th {\n",
       "        text-align: right;\n",
       "    }\n",
       "</style>\n",
       "<table border=\"1\" class=\"dataframe\">\n",
       "  <thead>\n",
       "    <tr style=\"text-align: right;\">\n",
       "      <th></th>\n",
       "      <th>Request id</th>\n",
       "      <th>Pickup point</th>\n",
       "      <th>Driver id</th>\n",
       "      <th>Status</th>\n",
       "      <th>Request timestamp</th>\n",
       "      <th>Drop timestamp</th>\n",
       "    </tr>\n",
       "  </thead>\n",
       "  <tbody>\n",
       "    <tr>\n",
       "      <th>4095</th>\n",
       "      <td>1362</td>\n",
       "      <td>City</td>\n",
       "      <td>NaN</td>\n",
       "      <td>No Cars Available</td>\n",
       "      <td>11/7/2016 0:02</td>\n",
       "      <td>NaN</td>\n",
       "    </tr>\n",
       "    <tr>\n",
       "      <th>4096</th>\n",
       "      <td>1364</td>\n",
       "      <td>City</td>\n",
       "      <td>NaN</td>\n",
       "      <td>No Cars Available</td>\n",
       "      <td>11/7/2016 0:06</td>\n",
       "      <td>NaN</td>\n",
       "    </tr>\n",
       "    <tr>\n",
       "      <th>4097</th>\n",
       "      <td>1366</td>\n",
       "      <td>City</td>\n",
       "      <td>NaN</td>\n",
       "      <td>No Cars Available</td>\n",
       "      <td>11/7/2016 0:09</td>\n",
       "      <td>NaN</td>\n",
       "    </tr>\n",
       "    <tr>\n",
       "      <th>4098</th>\n",
       "      <td>2</td>\n",
       "      <td>Airport</td>\n",
       "      <td>NaN</td>\n",
       "      <td>No Cars Available</td>\n",
       "      <td>11/7/2016 0:23</td>\n",
       "      <td>NaN</td>\n",
       "    </tr>\n",
       "    <tr>\n",
       "      <th>4099</th>\n",
       "      <td>7</td>\n",
       "      <td>Airport</td>\n",
       "      <td>NaN</td>\n",
       "      <td>No Cars Available</td>\n",
       "      <td>11/7/2016 0:30</td>\n",
       "      <td>NaN</td>\n",
       "    </tr>\n",
       "    <tr>\n",
       "      <th>...</th>\n",
       "      <td>...</td>\n",
       "      <td>...</td>\n",
       "      <td>...</td>\n",
       "      <td>...</td>\n",
       "      <td>...</td>\n",
       "      <td>...</td>\n",
       "    </tr>\n",
       "    <tr>\n",
       "      <th>6740</th>\n",
       "      <td>6745</td>\n",
       "      <td>City</td>\n",
       "      <td>NaN</td>\n",
       "      <td>No Cars Available</td>\n",
       "      <td>15-07-2016 23:49:03</td>\n",
       "      <td>NaN</td>\n",
       "    </tr>\n",
       "    <tr>\n",
       "      <th>6741</th>\n",
       "      <td>6752</td>\n",
       "      <td>Airport</td>\n",
       "      <td>NaN</td>\n",
       "      <td>No Cars Available</td>\n",
       "      <td>15-07-2016 23:50:05</td>\n",
       "      <td>NaN</td>\n",
       "    </tr>\n",
       "    <tr>\n",
       "      <th>6742</th>\n",
       "      <td>6751</td>\n",
       "      <td>City</td>\n",
       "      <td>NaN</td>\n",
       "      <td>No Cars Available</td>\n",
       "      <td>15-07-2016 23:52:06</td>\n",
       "      <td>NaN</td>\n",
       "    </tr>\n",
       "    <tr>\n",
       "      <th>6743</th>\n",
       "      <td>6754</td>\n",
       "      <td>City</td>\n",
       "      <td>NaN</td>\n",
       "      <td>No Cars Available</td>\n",
       "      <td>15-07-2016 23:54:39</td>\n",
       "      <td>NaN</td>\n",
       "    </tr>\n",
       "    <tr>\n",
       "      <th>6744</th>\n",
       "      <td>6753</td>\n",
       "      <td>Airport</td>\n",
       "      <td>NaN</td>\n",
       "      <td>No Cars Available</td>\n",
       "      <td>15-07-2016 23:55:03</td>\n",
       "      <td>NaN</td>\n",
       "    </tr>\n",
       "  </tbody>\n",
       "</table>\n",
       "<p>2650 rows × 6 columns</p>\n",
       "</div>"
      ],
      "text/plain": [
       "      Request id Pickup point  Driver id             Status  \\\n",
       "4095        1362         City        NaN  No Cars Available   \n",
       "4096        1364         City        NaN  No Cars Available   \n",
       "4097        1366         City        NaN  No Cars Available   \n",
       "4098           2      Airport        NaN  No Cars Available   \n",
       "4099           7      Airport        NaN  No Cars Available   \n",
       "...          ...          ...        ...                ...   \n",
       "6740        6745         City        NaN  No Cars Available   \n",
       "6741        6752      Airport        NaN  No Cars Available   \n",
       "6742        6751         City        NaN  No Cars Available   \n",
       "6743        6754         City        NaN  No Cars Available   \n",
       "6744        6753      Airport        NaN  No Cars Available   \n",
       "\n",
       "        Request timestamp Drop timestamp  \n",
       "4095       11/7/2016 0:02            NaN  \n",
       "4096       11/7/2016 0:06            NaN  \n",
       "4097       11/7/2016 0:09            NaN  \n",
       "4098       11/7/2016 0:23            NaN  \n",
       "4099       11/7/2016 0:30            NaN  \n",
       "...                   ...            ...  \n",
       "6740  15-07-2016 23:49:03            NaN  \n",
       "6741  15-07-2016 23:50:05            NaN  \n",
       "6742  15-07-2016 23:52:06            NaN  \n",
       "6743  15-07-2016 23:54:39            NaN  \n",
       "6744  15-07-2016 23:55:03            NaN  \n",
       "\n",
       "[2650 rows x 6 columns]"
      ]
     },
     "execution_count": 112,
     "metadata": {},
     "output_type": "execute_result"
    }
   ],
   "source": [
    "uber_req[uber_req[\"Driver id\"].isnull()]"
   ]
  },
  {
   "cell_type": "markdown",
   "metadata": {},
   "source": [
    "Since status of the ride is \"No Car Available\" so missing values in Driver id column is of Missing  at random.So not handling null values as it is not required for our business problem\n",
    "\n",
    "\n"
   ]
  },
  {
   "cell_type": "code",
   "execution_count": 113,
   "metadata": {},
   "outputs": [
    {
     "data": {
      "text/plain": [
       "3914"
      ]
     },
     "execution_count": 113,
     "metadata": {},
     "output_type": "execute_result"
    }
   ],
   "source": [
    "uber_req[\"Drop timestamp\"].isnull().sum()"
   ]
  },
  {
   "cell_type": "code",
   "execution_count": 114,
   "metadata": {},
   "outputs": [
    {
     "data": {
      "text/html": [
       "<div>\n",
       "<style scoped>\n",
       "    .dataframe tbody tr th:only-of-type {\n",
       "        vertical-align: middle;\n",
       "    }\n",
       "\n",
       "    .dataframe tbody tr th {\n",
       "        vertical-align: top;\n",
       "    }\n",
       "\n",
       "    .dataframe thead th {\n",
       "        text-align: right;\n",
       "    }\n",
       "</style>\n",
       "<table border=\"1\" class=\"dataframe\">\n",
       "  <thead>\n",
       "    <tr style=\"text-align: right;\">\n",
       "      <th></th>\n",
       "      <th>Request id</th>\n",
       "      <th>Pickup point</th>\n",
       "      <th>Driver id</th>\n",
       "      <th>Status</th>\n",
       "      <th>Request timestamp</th>\n",
       "      <th>Drop timestamp</th>\n",
       "    </tr>\n",
       "  </thead>\n",
       "  <tbody>\n",
       "    <tr>\n",
       "      <th>2831</th>\n",
       "      <td>2905</td>\n",
       "      <td>City</td>\n",
       "      <td>1.0</td>\n",
       "      <td>Cancelled</td>\n",
       "      <td>13-07-2016 06:08:41</td>\n",
       "      <td>NaN</td>\n",
       "    </tr>\n",
       "    <tr>\n",
       "      <th>2832</th>\n",
       "      <td>4805</td>\n",
       "      <td>City</td>\n",
       "      <td>1.0</td>\n",
       "      <td>Cancelled</td>\n",
       "      <td>14-07-2016 17:07:58</td>\n",
       "      <td>NaN</td>\n",
       "    </tr>\n",
       "    <tr>\n",
       "      <th>2833</th>\n",
       "      <td>5202</td>\n",
       "      <td>Airport</td>\n",
       "      <td>1.0</td>\n",
       "      <td>Cancelled</td>\n",
       "      <td>14-07-2016 20:51:37</td>\n",
       "      <td>NaN</td>\n",
       "    </tr>\n",
       "    <tr>\n",
       "      <th>2834</th>\n",
       "      <td>5927</td>\n",
       "      <td>City</td>\n",
       "      <td>1.0</td>\n",
       "      <td>Cancelled</td>\n",
       "      <td>15-07-2016 10:12:40</td>\n",
       "      <td>NaN</td>\n",
       "    </tr>\n",
       "    <tr>\n",
       "      <th>2835</th>\n",
       "      <td>2347</td>\n",
       "      <td>Airport</td>\n",
       "      <td>2.0</td>\n",
       "      <td>Cancelled</td>\n",
       "      <td>12/7/2016 19:14</td>\n",
       "      <td>NaN</td>\n",
       "    </tr>\n",
       "    <tr>\n",
       "      <th>...</th>\n",
       "      <td>...</td>\n",
       "      <td>...</td>\n",
       "      <td>...</td>\n",
       "      <td>...</td>\n",
       "      <td>...</td>\n",
       "      <td>...</td>\n",
       "    </tr>\n",
       "    <tr>\n",
       "      <th>6740</th>\n",
       "      <td>6745</td>\n",
       "      <td>City</td>\n",
       "      <td>NaN</td>\n",
       "      <td>No Cars Available</td>\n",
       "      <td>15-07-2016 23:49:03</td>\n",
       "      <td>NaN</td>\n",
       "    </tr>\n",
       "    <tr>\n",
       "      <th>6741</th>\n",
       "      <td>6752</td>\n",
       "      <td>Airport</td>\n",
       "      <td>NaN</td>\n",
       "      <td>No Cars Available</td>\n",
       "      <td>15-07-2016 23:50:05</td>\n",
       "      <td>NaN</td>\n",
       "    </tr>\n",
       "    <tr>\n",
       "      <th>6742</th>\n",
       "      <td>6751</td>\n",
       "      <td>City</td>\n",
       "      <td>NaN</td>\n",
       "      <td>No Cars Available</td>\n",
       "      <td>15-07-2016 23:52:06</td>\n",
       "      <td>NaN</td>\n",
       "    </tr>\n",
       "    <tr>\n",
       "      <th>6743</th>\n",
       "      <td>6754</td>\n",
       "      <td>City</td>\n",
       "      <td>NaN</td>\n",
       "      <td>No Cars Available</td>\n",
       "      <td>15-07-2016 23:54:39</td>\n",
       "      <td>NaN</td>\n",
       "    </tr>\n",
       "    <tr>\n",
       "      <th>6744</th>\n",
       "      <td>6753</td>\n",
       "      <td>Airport</td>\n",
       "      <td>NaN</td>\n",
       "      <td>No Cars Available</td>\n",
       "      <td>15-07-2016 23:55:03</td>\n",
       "      <td>NaN</td>\n",
       "    </tr>\n",
       "  </tbody>\n",
       "</table>\n",
       "<p>3914 rows × 6 columns</p>\n",
       "</div>"
      ],
      "text/plain": [
       "      Request id Pickup point  Driver id             Status  \\\n",
       "2831        2905         City        1.0          Cancelled   \n",
       "2832        4805         City        1.0          Cancelled   \n",
       "2833        5202      Airport        1.0          Cancelled   \n",
       "2834        5927         City        1.0          Cancelled   \n",
       "2835        2347      Airport        2.0          Cancelled   \n",
       "...          ...          ...        ...                ...   \n",
       "6740        6745         City        NaN  No Cars Available   \n",
       "6741        6752      Airport        NaN  No Cars Available   \n",
       "6742        6751         City        NaN  No Cars Available   \n",
       "6743        6754         City        NaN  No Cars Available   \n",
       "6744        6753      Airport        NaN  No Cars Available   \n",
       "\n",
       "        Request timestamp Drop timestamp  \n",
       "2831  13-07-2016 06:08:41            NaN  \n",
       "2832  14-07-2016 17:07:58            NaN  \n",
       "2833  14-07-2016 20:51:37            NaN  \n",
       "2834  15-07-2016 10:12:40            NaN  \n",
       "2835      12/7/2016 19:14            NaN  \n",
       "...                   ...            ...  \n",
       "6740  15-07-2016 23:49:03            NaN  \n",
       "6741  15-07-2016 23:50:05            NaN  \n",
       "6742  15-07-2016 23:52:06            NaN  \n",
       "6743  15-07-2016 23:54:39            NaN  \n",
       "6744  15-07-2016 23:55:03            NaN  \n",
       "\n",
       "[3914 rows x 6 columns]"
      ]
     },
     "execution_count": 114,
     "metadata": {},
     "output_type": "execute_result"
    }
   ],
   "source": [
    "uber_req[uber_req[\"Drop timestamp\"].isnull()]"
   ]
  },
  {
   "cell_type": "markdown",
   "metadata": {},
   "source": [
    "Since status of the rides are \"No Car Available\" and \"Cancelled\" so missing values in Drop timestamp column is of Missing  at random.\n",
    "So not handling null values as it is not required for our business problem"
   ]
  },
  {
   "cell_type": "code",
   "execution_count": 115,
   "metadata": {},
   "outputs": [],
   "source": [
    "uber_reqc = uber_req.copy()"
   ]
  },
  {
   "cell_type": "code",
   "execution_count": 116,
   "metadata": {},
   "outputs": [
    {
     "data": {
      "text/html": [
       "<div>\n",
       "<style scoped>\n",
       "    .dataframe tbody tr th:only-of-type {\n",
       "        vertical-align: middle;\n",
       "    }\n",
       "\n",
       "    .dataframe tbody tr th {\n",
       "        vertical-align: top;\n",
       "    }\n",
       "\n",
       "    .dataframe thead th {\n",
       "        text-align: right;\n",
       "    }\n",
       "</style>\n",
       "<table border=\"1\" class=\"dataframe\">\n",
       "  <thead>\n",
       "    <tr style=\"text-align: right;\">\n",
       "      <th></th>\n",
       "      <th>Request id</th>\n",
       "      <th>Pickup point</th>\n",
       "      <th>Driver id</th>\n",
       "      <th>Status</th>\n",
       "      <th>Request timestamp</th>\n",
       "      <th>Drop timestamp</th>\n",
       "    </tr>\n",
       "  </thead>\n",
       "  <tbody>\n",
       "    <tr>\n",
       "      <th>0</th>\n",
       "      <td>619</td>\n",
       "      <td>Airport</td>\n",
       "      <td>1.0</td>\n",
       "      <td>Trip Completed</td>\n",
       "      <td>11/7/2016 11:51</td>\n",
       "      <td>11/7/2016 13:00</td>\n",
       "    </tr>\n",
       "    <tr>\n",
       "      <th>1</th>\n",
       "      <td>867</td>\n",
       "      <td>Airport</td>\n",
       "      <td>1.0</td>\n",
       "      <td>Trip Completed</td>\n",
       "      <td>11/7/2016 17:57</td>\n",
       "      <td>11/7/2016 18:47</td>\n",
       "    </tr>\n",
       "    <tr>\n",
       "      <th>2</th>\n",
       "      <td>1807</td>\n",
       "      <td>City</td>\n",
       "      <td>1.0</td>\n",
       "      <td>Trip Completed</td>\n",
       "      <td>12/7/2016 9:17</td>\n",
       "      <td>12/7/2016 9:58</td>\n",
       "    </tr>\n",
       "    <tr>\n",
       "      <th>3</th>\n",
       "      <td>2532</td>\n",
       "      <td>Airport</td>\n",
       "      <td>1.0</td>\n",
       "      <td>Trip Completed</td>\n",
       "      <td>12/7/2016 21:08</td>\n",
       "      <td>12/7/2016 22:03</td>\n",
       "    </tr>\n",
       "    <tr>\n",
       "      <th>4</th>\n",
       "      <td>3112</td>\n",
       "      <td>City</td>\n",
       "      <td>1.0</td>\n",
       "      <td>Trip Completed</td>\n",
       "      <td>13-07-2016 08:33:16</td>\n",
       "      <td>13-07-2016 09:25:47</td>\n",
       "    </tr>\n",
       "    <tr>\n",
       "      <th>...</th>\n",
       "      <td>...</td>\n",
       "      <td>...</td>\n",
       "      <td>...</td>\n",
       "      <td>...</td>\n",
       "      <td>...</td>\n",
       "      <td>...</td>\n",
       "    </tr>\n",
       "    <tr>\n",
       "      <th>6740</th>\n",
       "      <td>6745</td>\n",
       "      <td>City</td>\n",
       "      <td>NaN</td>\n",
       "      <td>No Cars Available</td>\n",
       "      <td>15-07-2016 23:49:03</td>\n",
       "      <td>NaN</td>\n",
       "    </tr>\n",
       "    <tr>\n",
       "      <th>6741</th>\n",
       "      <td>6752</td>\n",
       "      <td>Airport</td>\n",
       "      <td>NaN</td>\n",
       "      <td>No Cars Available</td>\n",
       "      <td>15-07-2016 23:50:05</td>\n",
       "      <td>NaN</td>\n",
       "    </tr>\n",
       "    <tr>\n",
       "      <th>6742</th>\n",
       "      <td>6751</td>\n",
       "      <td>City</td>\n",
       "      <td>NaN</td>\n",
       "      <td>No Cars Available</td>\n",
       "      <td>15-07-2016 23:52:06</td>\n",
       "      <td>NaN</td>\n",
       "    </tr>\n",
       "    <tr>\n",
       "      <th>6743</th>\n",
       "      <td>6754</td>\n",
       "      <td>City</td>\n",
       "      <td>NaN</td>\n",
       "      <td>No Cars Available</td>\n",
       "      <td>15-07-2016 23:54:39</td>\n",
       "      <td>NaN</td>\n",
       "    </tr>\n",
       "    <tr>\n",
       "      <th>6744</th>\n",
       "      <td>6753</td>\n",
       "      <td>Airport</td>\n",
       "      <td>NaN</td>\n",
       "      <td>No Cars Available</td>\n",
       "      <td>15-07-2016 23:55:03</td>\n",
       "      <td>NaN</td>\n",
       "    </tr>\n",
       "  </tbody>\n",
       "</table>\n",
       "<p>6745 rows × 6 columns</p>\n",
       "</div>"
      ],
      "text/plain": [
       "      Request id Pickup point  Driver id             Status  \\\n",
       "0            619      Airport        1.0     Trip Completed   \n",
       "1            867      Airport        1.0     Trip Completed   \n",
       "2           1807         City        1.0     Trip Completed   \n",
       "3           2532      Airport        1.0     Trip Completed   \n",
       "4           3112         City        1.0     Trip Completed   \n",
       "...          ...          ...        ...                ...   \n",
       "6740        6745         City        NaN  No Cars Available   \n",
       "6741        6752      Airport        NaN  No Cars Available   \n",
       "6742        6751         City        NaN  No Cars Available   \n",
       "6743        6754         City        NaN  No Cars Available   \n",
       "6744        6753      Airport        NaN  No Cars Available   \n",
       "\n",
       "        Request timestamp       Drop timestamp  \n",
       "0         11/7/2016 11:51      11/7/2016 13:00  \n",
       "1         11/7/2016 17:57      11/7/2016 18:47  \n",
       "2          12/7/2016 9:17       12/7/2016 9:58  \n",
       "3         12/7/2016 21:08      12/7/2016 22:03  \n",
       "4     13-07-2016 08:33:16  13-07-2016 09:25:47  \n",
       "...                   ...                  ...  \n",
       "6740  15-07-2016 23:49:03                  NaN  \n",
       "6741  15-07-2016 23:50:05                  NaN  \n",
       "6742  15-07-2016 23:52:06                  NaN  \n",
       "6743  15-07-2016 23:54:39                  NaN  \n",
       "6744  15-07-2016 23:55:03                  NaN  \n",
       "\n",
       "[6745 rows x 6 columns]"
      ]
     },
     "execution_count": 116,
     "metadata": {},
     "output_type": "execute_result"
    }
   ],
   "source": [
    "uber_reqc"
   ]
  },
  {
   "cell_type": "code",
   "execution_count": 117,
   "metadata": {},
   "outputs": [],
   "source": [
    "#Converting Request timestamp column from string to Datetime. Convert function is used as we can see the Request timestamp \n",
    "#column and Drop timestamp columns have different datetime formats.\n",
    "import datetime\n",
    "def convert(s):\n",
    "    if isinstance(s,float):\n",
    "        return s\n",
    "    else:\n",
    "        try:\n",
    "            date = datetime.datetime.strptime(s, '%d-%m-%Y %H:%M:%S')\n",
    "            return (date)\n",
    "        except ValueError as err:\n",
    "            e =(err)\n",
    "        date = datetime.datetime.strptime(s, '%d/%m/%Y %H:%M')\n",
    "        return date\n",
    "uber_reqc[\"Request timestamp\"] = uber_reqc[\"Request timestamp\"].apply(convert)"
   ]
  },
  {
   "cell_type": "code",
   "execution_count": 118,
   "metadata": {},
   "outputs": [
    {
     "data": {
      "text/html": [
       "<div>\n",
       "<style scoped>\n",
       "    .dataframe tbody tr th:only-of-type {\n",
       "        vertical-align: middle;\n",
       "    }\n",
       "\n",
       "    .dataframe tbody tr th {\n",
       "        vertical-align: top;\n",
       "    }\n",
       "\n",
       "    .dataframe thead th {\n",
       "        text-align: right;\n",
       "    }\n",
       "</style>\n",
       "<table border=\"1\" class=\"dataframe\">\n",
       "  <thead>\n",
       "    <tr style=\"text-align: right;\">\n",
       "      <th></th>\n",
       "      <th>Request id</th>\n",
       "      <th>Pickup point</th>\n",
       "      <th>Driver id</th>\n",
       "      <th>Status</th>\n",
       "      <th>Request timestamp</th>\n",
       "      <th>Drop timestamp</th>\n",
       "    </tr>\n",
       "  </thead>\n",
       "  <tbody>\n",
       "    <tr>\n",
       "      <th>0</th>\n",
       "      <td>619</td>\n",
       "      <td>Airport</td>\n",
       "      <td>1.0</td>\n",
       "      <td>Trip Completed</td>\n",
       "      <td>2016-07-11 11:51:00</td>\n",
       "      <td>11/7/2016 13:00</td>\n",
       "    </tr>\n",
       "    <tr>\n",
       "      <th>1</th>\n",
       "      <td>867</td>\n",
       "      <td>Airport</td>\n",
       "      <td>1.0</td>\n",
       "      <td>Trip Completed</td>\n",
       "      <td>2016-07-11 17:57:00</td>\n",
       "      <td>11/7/2016 18:47</td>\n",
       "    </tr>\n",
       "    <tr>\n",
       "      <th>2</th>\n",
       "      <td>1807</td>\n",
       "      <td>City</td>\n",
       "      <td>1.0</td>\n",
       "      <td>Trip Completed</td>\n",
       "      <td>2016-07-12 09:17:00</td>\n",
       "      <td>12/7/2016 9:58</td>\n",
       "    </tr>\n",
       "    <tr>\n",
       "      <th>3</th>\n",
       "      <td>2532</td>\n",
       "      <td>Airport</td>\n",
       "      <td>1.0</td>\n",
       "      <td>Trip Completed</td>\n",
       "      <td>2016-07-12 21:08:00</td>\n",
       "      <td>12/7/2016 22:03</td>\n",
       "    </tr>\n",
       "    <tr>\n",
       "      <th>4</th>\n",
       "      <td>3112</td>\n",
       "      <td>City</td>\n",
       "      <td>1.0</td>\n",
       "      <td>Trip Completed</td>\n",
       "      <td>2016-07-13 08:33:16</td>\n",
       "      <td>13-07-2016 09:25:47</td>\n",
       "    </tr>\n",
       "    <tr>\n",
       "      <th>...</th>\n",
       "      <td>...</td>\n",
       "      <td>...</td>\n",
       "      <td>...</td>\n",
       "      <td>...</td>\n",
       "      <td>...</td>\n",
       "      <td>...</td>\n",
       "    </tr>\n",
       "    <tr>\n",
       "      <th>6740</th>\n",
       "      <td>6745</td>\n",
       "      <td>City</td>\n",
       "      <td>NaN</td>\n",
       "      <td>No Cars Available</td>\n",
       "      <td>2016-07-15 23:49:03</td>\n",
       "      <td>NaN</td>\n",
       "    </tr>\n",
       "    <tr>\n",
       "      <th>6741</th>\n",
       "      <td>6752</td>\n",
       "      <td>Airport</td>\n",
       "      <td>NaN</td>\n",
       "      <td>No Cars Available</td>\n",
       "      <td>2016-07-15 23:50:05</td>\n",
       "      <td>NaN</td>\n",
       "    </tr>\n",
       "    <tr>\n",
       "      <th>6742</th>\n",
       "      <td>6751</td>\n",
       "      <td>City</td>\n",
       "      <td>NaN</td>\n",
       "      <td>No Cars Available</td>\n",
       "      <td>2016-07-15 23:52:06</td>\n",
       "      <td>NaN</td>\n",
       "    </tr>\n",
       "    <tr>\n",
       "      <th>6743</th>\n",
       "      <td>6754</td>\n",
       "      <td>City</td>\n",
       "      <td>NaN</td>\n",
       "      <td>No Cars Available</td>\n",
       "      <td>2016-07-15 23:54:39</td>\n",
       "      <td>NaN</td>\n",
       "    </tr>\n",
       "    <tr>\n",
       "      <th>6744</th>\n",
       "      <td>6753</td>\n",
       "      <td>Airport</td>\n",
       "      <td>NaN</td>\n",
       "      <td>No Cars Available</td>\n",
       "      <td>2016-07-15 23:55:03</td>\n",
       "      <td>NaN</td>\n",
       "    </tr>\n",
       "  </tbody>\n",
       "</table>\n",
       "<p>6745 rows × 6 columns</p>\n",
       "</div>"
      ],
      "text/plain": [
       "      Request id Pickup point  Driver id             Status  \\\n",
       "0            619      Airport        1.0     Trip Completed   \n",
       "1            867      Airport        1.0     Trip Completed   \n",
       "2           1807         City        1.0     Trip Completed   \n",
       "3           2532      Airport        1.0     Trip Completed   \n",
       "4           3112         City        1.0     Trip Completed   \n",
       "...          ...          ...        ...                ...   \n",
       "6740        6745         City        NaN  No Cars Available   \n",
       "6741        6752      Airport        NaN  No Cars Available   \n",
       "6742        6751         City        NaN  No Cars Available   \n",
       "6743        6754         City        NaN  No Cars Available   \n",
       "6744        6753      Airport        NaN  No Cars Available   \n",
       "\n",
       "       Request timestamp       Drop timestamp  \n",
       "0    2016-07-11 11:51:00      11/7/2016 13:00  \n",
       "1    2016-07-11 17:57:00      11/7/2016 18:47  \n",
       "2    2016-07-12 09:17:00       12/7/2016 9:58  \n",
       "3    2016-07-12 21:08:00      12/7/2016 22:03  \n",
       "4    2016-07-13 08:33:16  13-07-2016 09:25:47  \n",
       "...                  ...                  ...  \n",
       "6740 2016-07-15 23:49:03                  NaN  \n",
       "6741 2016-07-15 23:50:05                  NaN  \n",
       "6742 2016-07-15 23:52:06                  NaN  \n",
       "6743 2016-07-15 23:54:39                  NaN  \n",
       "6744 2016-07-15 23:55:03                  NaN  \n",
       "\n",
       "[6745 rows x 6 columns]"
      ]
     },
     "execution_count": 118,
     "metadata": {},
     "output_type": "execute_result"
    }
   ],
   "source": [
    "uber_reqc"
   ]
  },
  {
   "cell_type": "code",
   "execution_count": 119,
   "metadata": {},
   "outputs": [],
   "source": [
    "#Converting Drop timestamp column from string to Datetime \n",
    "uber_reqc[\"Drop timestamp\"] = uber_reqc[\"Drop timestamp\"].apply(convert)"
   ]
  },
  {
   "cell_type": "code",
   "execution_count": 120,
   "metadata": {},
   "outputs": [
    {
     "name": "stdout",
     "output_type": "stream",
     "text": [
      "<class 'pandas.core.frame.DataFrame'>\n",
      "RangeIndex: 6745 entries, 0 to 6744\n",
      "Data columns (total 6 columns):\n",
      " #   Column             Non-Null Count  Dtype         \n",
      "---  ------             --------------  -----         \n",
      " 0   Request id         6745 non-null   int64         \n",
      " 1   Pickup point       6745 non-null   object        \n",
      " 2   Driver id          4095 non-null   float64       \n",
      " 3   Status             6745 non-null   object        \n",
      " 4   Request timestamp  6745 non-null   datetime64[ns]\n",
      " 5   Drop timestamp     2831 non-null   datetime64[ns]\n",
      "dtypes: datetime64[ns](2), float64(1), int64(1), object(2)\n",
      "memory usage: 316.3+ KB\n"
     ]
    }
   ],
   "source": [
    "uber_reqc.info()"
   ]
  },
  {
   "cell_type": "code",
   "execution_count": 121,
   "metadata": {},
   "outputs": [
    {
     "data": {
      "text/html": [
       "<div>\n",
       "<style scoped>\n",
       "    .dataframe tbody tr th:only-of-type {\n",
       "        vertical-align: middle;\n",
       "    }\n",
       "\n",
       "    .dataframe tbody tr th {\n",
       "        vertical-align: top;\n",
       "    }\n",
       "\n",
       "    .dataframe thead th {\n",
       "        text-align: right;\n",
       "    }\n",
       "</style>\n",
       "<table border=\"1\" class=\"dataframe\">\n",
       "  <thead>\n",
       "    <tr style=\"text-align: right;\">\n",
       "      <th></th>\n",
       "      <th>Request id</th>\n",
       "      <th>Pickup point</th>\n",
       "      <th>Driver id</th>\n",
       "      <th>Status</th>\n",
       "      <th>Request timestamp</th>\n",
       "      <th>Drop timestamp</th>\n",
       "    </tr>\n",
       "  </thead>\n",
       "  <tbody>\n",
       "    <tr>\n",
       "      <th>0</th>\n",
       "      <td>619</td>\n",
       "      <td>Airport</td>\n",
       "      <td>1.0</td>\n",
       "      <td>Trip Completed</td>\n",
       "      <td>2016-07-11 11:51:00</td>\n",
       "      <td>2016-07-11 13:00:00</td>\n",
       "    </tr>\n",
       "    <tr>\n",
       "      <th>1</th>\n",
       "      <td>867</td>\n",
       "      <td>Airport</td>\n",
       "      <td>1.0</td>\n",
       "      <td>Trip Completed</td>\n",
       "      <td>2016-07-11 17:57:00</td>\n",
       "      <td>2016-07-11 18:47:00</td>\n",
       "    </tr>\n",
       "    <tr>\n",
       "      <th>2</th>\n",
       "      <td>1807</td>\n",
       "      <td>City</td>\n",
       "      <td>1.0</td>\n",
       "      <td>Trip Completed</td>\n",
       "      <td>2016-07-12 09:17:00</td>\n",
       "      <td>2016-07-12 09:58:00</td>\n",
       "    </tr>\n",
       "    <tr>\n",
       "      <th>3</th>\n",
       "      <td>2532</td>\n",
       "      <td>Airport</td>\n",
       "      <td>1.0</td>\n",
       "      <td>Trip Completed</td>\n",
       "      <td>2016-07-12 21:08:00</td>\n",
       "      <td>2016-07-12 22:03:00</td>\n",
       "    </tr>\n",
       "    <tr>\n",
       "      <th>4</th>\n",
       "      <td>3112</td>\n",
       "      <td>City</td>\n",
       "      <td>1.0</td>\n",
       "      <td>Trip Completed</td>\n",
       "      <td>2016-07-13 08:33:16</td>\n",
       "      <td>2016-07-13 09:25:47</td>\n",
       "    </tr>\n",
       "    <tr>\n",
       "      <th>...</th>\n",
       "      <td>...</td>\n",
       "      <td>...</td>\n",
       "      <td>...</td>\n",
       "      <td>...</td>\n",
       "      <td>...</td>\n",
       "      <td>...</td>\n",
       "    </tr>\n",
       "    <tr>\n",
       "      <th>6740</th>\n",
       "      <td>6745</td>\n",
       "      <td>City</td>\n",
       "      <td>NaN</td>\n",
       "      <td>No Cars Available</td>\n",
       "      <td>2016-07-15 23:49:03</td>\n",
       "      <td>NaT</td>\n",
       "    </tr>\n",
       "    <tr>\n",
       "      <th>6741</th>\n",
       "      <td>6752</td>\n",
       "      <td>Airport</td>\n",
       "      <td>NaN</td>\n",
       "      <td>No Cars Available</td>\n",
       "      <td>2016-07-15 23:50:05</td>\n",
       "      <td>NaT</td>\n",
       "    </tr>\n",
       "    <tr>\n",
       "      <th>6742</th>\n",
       "      <td>6751</td>\n",
       "      <td>City</td>\n",
       "      <td>NaN</td>\n",
       "      <td>No Cars Available</td>\n",
       "      <td>2016-07-15 23:52:06</td>\n",
       "      <td>NaT</td>\n",
       "    </tr>\n",
       "    <tr>\n",
       "      <th>6743</th>\n",
       "      <td>6754</td>\n",
       "      <td>City</td>\n",
       "      <td>NaN</td>\n",
       "      <td>No Cars Available</td>\n",
       "      <td>2016-07-15 23:54:39</td>\n",
       "      <td>NaT</td>\n",
       "    </tr>\n",
       "    <tr>\n",
       "      <th>6744</th>\n",
       "      <td>6753</td>\n",
       "      <td>Airport</td>\n",
       "      <td>NaN</td>\n",
       "      <td>No Cars Available</td>\n",
       "      <td>2016-07-15 23:55:03</td>\n",
       "      <td>NaT</td>\n",
       "    </tr>\n",
       "  </tbody>\n",
       "</table>\n",
       "<p>6745 rows × 6 columns</p>\n",
       "</div>"
      ],
      "text/plain": [
       "      Request id Pickup point  Driver id             Status  \\\n",
       "0            619      Airport        1.0     Trip Completed   \n",
       "1            867      Airport        1.0     Trip Completed   \n",
       "2           1807         City        1.0     Trip Completed   \n",
       "3           2532      Airport        1.0     Trip Completed   \n",
       "4           3112         City        1.0     Trip Completed   \n",
       "...          ...          ...        ...                ...   \n",
       "6740        6745         City        NaN  No Cars Available   \n",
       "6741        6752      Airport        NaN  No Cars Available   \n",
       "6742        6751         City        NaN  No Cars Available   \n",
       "6743        6754         City        NaN  No Cars Available   \n",
       "6744        6753      Airport        NaN  No Cars Available   \n",
       "\n",
       "       Request timestamp      Drop timestamp  \n",
       "0    2016-07-11 11:51:00 2016-07-11 13:00:00  \n",
       "1    2016-07-11 17:57:00 2016-07-11 18:47:00  \n",
       "2    2016-07-12 09:17:00 2016-07-12 09:58:00  \n",
       "3    2016-07-12 21:08:00 2016-07-12 22:03:00  \n",
       "4    2016-07-13 08:33:16 2016-07-13 09:25:47  \n",
       "...                  ...                 ...  \n",
       "6740 2016-07-15 23:49:03                 NaT  \n",
       "6741 2016-07-15 23:50:05                 NaT  \n",
       "6742 2016-07-15 23:52:06                 NaT  \n",
       "6743 2016-07-15 23:54:39                 NaT  \n",
       "6744 2016-07-15 23:55:03                 NaT  \n",
       "\n",
       "[6745 rows x 6 columns]"
      ]
     },
     "execution_count": 121,
     "metadata": {},
     "output_type": "execute_result"
    }
   ],
   "source": [
    "uber_reqc"
   ]
  },
  {
   "cell_type": "code",
   "execution_count": 122,
   "metadata": {},
   "outputs": [
    {
     "name": "stdout",
     "output_type": "stream",
     "text": [
      "<class 'pandas.core.frame.DataFrame'>\n",
      "RangeIndex: 6745 entries, 0 to 6744\n",
      "Data columns (total 6 columns):\n",
      " #   Column             Non-Null Count  Dtype         \n",
      "---  ------             --------------  -----         \n",
      " 0   Request id         6745 non-null   int64         \n",
      " 1   Pickup point       6745 non-null   object        \n",
      " 2   Driver id          4095 non-null   float64       \n",
      " 3   Status             6745 non-null   object        \n",
      " 4   Request timestamp  6745 non-null   datetime64[ns]\n",
      " 5   Drop timestamp     2831 non-null   datetime64[ns]\n",
      "dtypes: datetime64[ns](2), float64(1), int64(1), object(2)\n",
      "memory usage: 316.3+ KB\n"
     ]
    }
   ],
   "source": [
    "uber_reqc.info()"
   ]
  },
  {
   "cell_type": "code",
   "execution_count": 123,
   "metadata": {},
   "outputs": [],
   "source": [
    "#Derived new time column from Request timestamp column\n",
    "uber_reqc[\"Request time\"] = uber_reqc['Request timestamp'].dt.time"
   ]
  },
  {
   "cell_type": "code",
   "execution_count": 124,
   "metadata": {},
   "outputs": [],
   "source": [
    "#Binning the Request time column with the below bins which are of 24 hr format\n",
    "bins = [0, 4, 8 ,12,16, 20, 24]\n",
    "#Labeling the bins\n",
    "labels = [\"Midnight 0-4\",\"Early Morning 4-8\",\"Morning 8-12\",\"Afternoon 12-16\",\"Evening 16-20\",\"Night 20-24\"]\n",
    "uber_reqc[\"Day part\"] = pd.cut(uber_reqc[\"Request timestamp\"].dt.hour, bins, labels=labels, right=False)"
   ]
  },
  {
   "cell_type": "code",
   "execution_count": 125,
   "metadata": {},
   "outputs": [
    {
     "data": {
      "text/html": [
       "<div>\n",
       "<style scoped>\n",
       "    .dataframe tbody tr th:only-of-type {\n",
       "        vertical-align: middle;\n",
       "    }\n",
       "\n",
       "    .dataframe tbody tr th {\n",
       "        vertical-align: top;\n",
       "    }\n",
       "\n",
       "    .dataframe thead th {\n",
       "        text-align: right;\n",
       "    }\n",
       "</style>\n",
       "<table border=\"1\" class=\"dataframe\">\n",
       "  <thead>\n",
       "    <tr style=\"text-align: right;\">\n",
       "      <th></th>\n",
       "      <th>Request id</th>\n",
       "      <th>Pickup point</th>\n",
       "      <th>Driver id</th>\n",
       "      <th>Status</th>\n",
       "      <th>Request timestamp</th>\n",
       "      <th>Drop timestamp</th>\n",
       "      <th>Request time</th>\n",
       "      <th>Day part</th>\n",
       "    </tr>\n",
       "  </thead>\n",
       "  <tbody>\n",
       "    <tr>\n",
       "      <th>0</th>\n",
       "      <td>619</td>\n",
       "      <td>Airport</td>\n",
       "      <td>1.0</td>\n",
       "      <td>Trip Completed</td>\n",
       "      <td>2016-07-11 11:51:00</td>\n",
       "      <td>2016-07-11 13:00:00</td>\n",
       "      <td>11:51:00</td>\n",
       "      <td>Morning 8-12</td>\n",
       "    </tr>\n",
       "    <tr>\n",
       "      <th>1</th>\n",
       "      <td>867</td>\n",
       "      <td>Airport</td>\n",
       "      <td>1.0</td>\n",
       "      <td>Trip Completed</td>\n",
       "      <td>2016-07-11 17:57:00</td>\n",
       "      <td>2016-07-11 18:47:00</td>\n",
       "      <td>17:57:00</td>\n",
       "      <td>Evening 16-20</td>\n",
       "    </tr>\n",
       "    <tr>\n",
       "      <th>2</th>\n",
       "      <td>1807</td>\n",
       "      <td>City</td>\n",
       "      <td>1.0</td>\n",
       "      <td>Trip Completed</td>\n",
       "      <td>2016-07-12 09:17:00</td>\n",
       "      <td>2016-07-12 09:58:00</td>\n",
       "      <td>09:17:00</td>\n",
       "      <td>Morning 8-12</td>\n",
       "    </tr>\n",
       "    <tr>\n",
       "      <th>3</th>\n",
       "      <td>2532</td>\n",
       "      <td>Airport</td>\n",
       "      <td>1.0</td>\n",
       "      <td>Trip Completed</td>\n",
       "      <td>2016-07-12 21:08:00</td>\n",
       "      <td>2016-07-12 22:03:00</td>\n",
       "      <td>21:08:00</td>\n",
       "      <td>Night 20-24</td>\n",
       "    </tr>\n",
       "    <tr>\n",
       "      <th>4</th>\n",
       "      <td>3112</td>\n",
       "      <td>City</td>\n",
       "      <td>1.0</td>\n",
       "      <td>Trip Completed</td>\n",
       "      <td>2016-07-13 08:33:16</td>\n",
       "      <td>2016-07-13 09:25:47</td>\n",
       "      <td>08:33:16</td>\n",
       "      <td>Morning 8-12</td>\n",
       "    </tr>\n",
       "    <tr>\n",
       "      <th>5</th>\n",
       "      <td>3879</td>\n",
       "      <td>Airport</td>\n",
       "      <td>1.0</td>\n",
       "      <td>Trip Completed</td>\n",
       "      <td>2016-07-13 21:57:28</td>\n",
       "      <td>2016-07-13 22:28:59</td>\n",
       "      <td>21:57:28</td>\n",
       "      <td>Night 20-24</td>\n",
       "    </tr>\n",
       "    <tr>\n",
       "      <th>6</th>\n",
       "      <td>4270</td>\n",
       "      <td>Airport</td>\n",
       "      <td>1.0</td>\n",
       "      <td>Trip Completed</td>\n",
       "      <td>2016-07-14 06:15:32</td>\n",
       "      <td>2016-07-14 07:13:15</td>\n",
       "      <td>06:15:32</td>\n",
       "      <td>Early Morning 4-8</td>\n",
       "    </tr>\n",
       "    <tr>\n",
       "      <th>7</th>\n",
       "      <td>5510</td>\n",
       "      <td>Airport</td>\n",
       "      <td>1.0</td>\n",
       "      <td>Trip Completed</td>\n",
       "      <td>2016-07-15 05:11:52</td>\n",
       "      <td>2016-07-15 06:07:52</td>\n",
       "      <td>05:11:52</td>\n",
       "      <td>Early Morning 4-8</td>\n",
       "    </tr>\n",
       "    <tr>\n",
       "      <th>8</th>\n",
       "      <td>6248</td>\n",
       "      <td>City</td>\n",
       "      <td>1.0</td>\n",
       "      <td>Trip Completed</td>\n",
       "      <td>2016-07-15 17:57:27</td>\n",
       "      <td>2016-07-15 18:50:51</td>\n",
       "      <td>17:57:27</td>\n",
       "      <td>Evening 16-20</td>\n",
       "    </tr>\n",
       "    <tr>\n",
       "      <th>9</th>\n",
       "      <td>267</td>\n",
       "      <td>City</td>\n",
       "      <td>2.0</td>\n",
       "      <td>Trip Completed</td>\n",
       "      <td>2016-07-11 06:46:00</td>\n",
       "      <td>2016-07-11 07:25:00</td>\n",
       "      <td>06:46:00</td>\n",
       "      <td>Early Morning 4-8</td>\n",
       "    </tr>\n",
       "    <tr>\n",
       "      <th>10</th>\n",
       "      <td>1467</td>\n",
       "      <td>Airport</td>\n",
       "      <td>2.0</td>\n",
       "      <td>Trip Completed</td>\n",
       "      <td>2016-07-12 05:08:00</td>\n",
       "      <td>2016-07-12 06:02:00</td>\n",
       "      <td>05:08:00</td>\n",
       "      <td>Early Morning 4-8</td>\n",
       "    </tr>\n",
       "    <tr>\n",
       "      <th>11</th>\n",
       "      <td>1983</td>\n",
       "      <td>City</td>\n",
       "      <td>2.0</td>\n",
       "      <td>Trip Completed</td>\n",
       "      <td>2016-07-12 12:30:00</td>\n",
       "      <td>2016-07-12 12:57:00</td>\n",
       "      <td>12:30:00</td>\n",
       "      <td>Afternoon 12-16</td>\n",
       "    </tr>\n",
       "    <tr>\n",
       "      <th>12</th>\n",
       "      <td>2784</td>\n",
       "      <td>Airport</td>\n",
       "      <td>2.0</td>\n",
       "      <td>Trip Completed</td>\n",
       "      <td>2016-07-13 04:49:20</td>\n",
       "      <td>2016-07-13 05:23:03</td>\n",
       "      <td>04:49:20</td>\n",
       "      <td>Early Morning 4-8</td>\n",
       "    </tr>\n",
       "    <tr>\n",
       "      <th>13</th>\n",
       "      <td>3075</td>\n",
       "      <td>City</td>\n",
       "      <td>2.0</td>\n",
       "      <td>Trip Completed</td>\n",
       "      <td>2016-07-13 08:02:53</td>\n",
       "      <td>2016-07-13 09:16:19</td>\n",
       "      <td>08:02:53</td>\n",
       "      <td>Morning 8-12</td>\n",
       "    </tr>\n",
       "    <tr>\n",
       "      <th>14</th>\n",
       "      <td>3379</td>\n",
       "      <td>City</td>\n",
       "      <td>2.0</td>\n",
       "      <td>Trip Completed</td>\n",
       "      <td>2016-07-13 14:23:02</td>\n",
       "      <td>2016-07-13 15:35:18</td>\n",
       "      <td>14:23:02</td>\n",
       "      <td>Afternoon 12-16</td>\n",
       "    </tr>\n",
       "    <tr>\n",
       "      <th>15</th>\n",
       "      <td>3482</td>\n",
       "      <td>Airport</td>\n",
       "      <td>2.0</td>\n",
       "      <td>Trip Completed</td>\n",
       "      <td>2016-07-13 17:23:18</td>\n",
       "      <td>2016-07-13 18:20:51</td>\n",
       "      <td>17:23:18</td>\n",
       "      <td>Evening 16-20</td>\n",
       "    </tr>\n",
       "    <tr>\n",
       "      <th>16</th>\n",
       "      <td>4652</td>\n",
       "      <td>City</td>\n",
       "      <td>2.0</td>\n",
       "      <td>Trip Completed</td>\n",
       "      <td>2016-07-14 12:01:02</td>\n",
       "      <td>2016-07-14 12:36:46</td>\n",
       "      <td>12:01:02</td>\n",
       "      <td>Afternoon 12-16</td>\n",
       "    </tr>\n",
       "    <tr>\n",
       "      <th>17</th>\n",
       "      <td>5335</td>\n",
       "      <td>Airport</td>\n",
       "      <td>2.0</td>\n",
       "      <td>Trip Completed</td>\n",
       "      <td>2016-07-14 22:24:13</td>\n",
       "      <td>2016-07-14 23:18:52</td>\n",
       "      <td>22:24:13</td>\n",
       "      <td>Night 20-24</td>\n",
       "    </tr>\n",
       "    <tr>\n",
       "      <th>18</th>\n",
       "      <td>535</td>\n",
       "      <td>Airport</td>\n",
       "      <td>3.0</td>\n",
       "      <td>Trip Completed</td>\n",
       "      <td>2016-07-11 10:00:00</td>\n",
       "      <td>2016-07-11 10:31:00</td>\n",
       "      <td>10:00:00</td>\n",
       "      <td>Morning 8-12</td>\n",
       "    </tr>\n",
       "    <tr>\n",
       "      <th>19</th>\n",
       "      <td>960</td>\n",
       "      <td>Airport</td>\n",
       "      <td>3.0</td>\n",
       "      <td>Trip Completed</td>\n",
       "      <td>2016-07-11 18:45:00</td>\n",
       "      <td>2016-07-11 19:23:00</td>\n",
       "      <td>18:45:00</td>\n",
       "      <td>Evening 16-20</td>\n",
       "    </tr>\n",
       "    <tr>\n",
       "      <th>20</th>\n",
       "      <td>1934</td>\n",
       "      <td>Airport</td>\n",
       "      <td>3.0</td>\n",
       "      <td>Trip Completed</td>\n",
       "      <td>2016-07-12 11:17:00</td>\n",
       "      <td>2016-07-12 12:23:00</td>\n",
       "      <td>11:17:00</td>\n",
       "      <td>Morning 8-12</td>\n",
       "    </tr>\n",
       "    <tr>\n",
       "      <th>21</th>\n",
       "      <td>2083</td>\n",
       "      <td>Airport</td>\n",
       "      <td>3.0</td>\n",
       "      <td>Trip Completed</td>\n",
       "      <td>2016-07-12 15:46:00</td>\n",
       "      <td>2016-07-12 16:40:00</td>\n",
       "      <td>15:46:00</td>\n",
       "      <td>Afternoon 12-16</td>\n",
       "    </tr>\n",
       "    <tr>\n",
       "      <th>22</th>\n",
       "      <td>2211</td>\n",
       "      <td>Airport</td>\n",
       "      <td>3.0</td>\n",
       "      <td>Trip Completed</td>\n",
       "      <td>2016-07-12 18:00:00</td>\n",
       "      <td>2016-07-12 18:28:00</td>\n",
       "      <td>18:00:00</td>\n",
       "      <td>Evening 16-20</td>\n",
       "    </tr>\n",
       "    <tr>\n",
       "      <th>23</th>\n",
       "      <td>3096</td>\n",
       "      <td>Airport</td>\n",
       "      <td>3.0</td>\n",
       "      <td>Trip Completed</td>\n",
       "      <td>2016-07-13 08:17:29</td>\n",
       "      <td>2016-07-13 09:22:37</td>\n",
       "      <td>08:17:29</td>\n",
       "      <td>Morning 8-12</td>\n",
       "    </tr>\n",
       "    <tr>\n",
       "      <th>24</th>\n",
       "      <td>3881</td>\n",
       "      <td>Airport</td>\n",
       "      <td>3.0</td>\n",
       "      <td>Trip Completed</td>\n",
       "      <td>2016-07-13 21:54:18</td>\n",
       "      <td>2016-07-13 22:51:23</td>\n",
       "      <td>21:54:18</td>\n",
       "      <td>Night 20-24</td>\n",
       "    </tr>\n",
       "  </tbody>\n",
       "</table>\n",
       "</div>"
      ],
      "text/plain": [
       "    Request id Pickup point  Driver id          Status   Request timestamp  \\\n",
       "0          619      Airport        1.0  Trip Completed 2016-07-11 11:51:00   \n",
       "1          867      Airport        1.0  Trip Completed 2016-07-11 17:57:00   \n",
       "2         1807         City        1.0  Trip Completed 2016-07-12 09:17:00   \n",
       "3         2532      Airport        1.0  Trip Completed 2016-07-12 21:08:00   \n",
       "4         3112         City        1.0  Trip Completed 2016-07-13 08:33:16   \n",
       "5         3879      Airport        1.0  Trip Completed 2016-07-13 21:57:28   \n",
       "6         4270      Airport        1.0  Trip Completed 2016-07-14 06:15:32   \n",
       "7         5510      Airport        1.0  Trip Completed 2016-07-15 05:11:52   \n",
       "8         6248         City        1.0  Trip Completed 2016-07-15 17:57:27   \n",
       "9          267         City        2.0  Trip Completed 2016-07-11 06:46:00   \n",
       "10        1467      Airport        2.0  Trip Completed 2016-07-12 05:08:00   \n",
       "11        1983         City        2.0  Trip Completed 2016-07-12 12:30:00   \n",
       "12        2784      Airport        2.0  Trip Completed 2016-07-13 04:49:20   \n",
       "13        3075         City        2.0  Trip Completed 2016-07-13 08:02:53   \n",
       "14        3379         City        2.0  Trip Completed 2016-07-13 14:23:02   \n",
       "15        3482      Airport        2.0  Trip Completed 2016-07-13 17:23:18   \n",
       "16        4652         City        2.0  Trip Completed 2016-07-14 12:01:02   \n",
       "17        5335      Airport        2.0  Trip Completed 2016-07-14 22:24:13   \n",
       "18         535      Airport        3.0  Trip Completed 2016-07-11 10:00:00   \n",
       "19         960      Airport        3.0  Trip Completed 2016-07-11 18:45:00   \n",
       "20        1934      Airport        3.0  Trip Completed 2016-07-12 11:17:00   \n",
       "21        2083      Airport        3.0  Trip Completed 2016-07-12 15:46:00   \n",
       "22        2211      Airport        3.0  Trip Completed 2016-07-12 18:00:00   \n",
       "23        3096      Airport        3.0  Trip Completed 2016-07-13 08:17:29   \n",
       "24        3881      Airport        3.0  Trip Completed 2016-07-13 21:54:18   \n",
       "\n",
       "        Drop timestamp Request time           Day part  \n",
       "0  2016-07-11 13:00:00     11:51:00       Morning 8-12  \n",
       "1  2016-07-11 18:47:00     17:57:00      Evening 16-20  \n",
       "2  2016-07-12 09:58:00     09:17:00       Morning 8-12  \n",
       "3  2016-07-12 22:03:00     21:08:00        Night 20-24  \n",
       "4  2016-07-13 09:25:47     08:33:16       Morning 8-12  \n",
       "5  2016-07-13 22:28:59     21:57:28        Night 20-24  \n",
       "6  2016-07-14 07:13:15     06:15:32  Early Morning 4-8  \n",
       "7  2016-07-15 06:07:52     05:11:52  Early Morning 4-8  \n",
       "8  2016-07-15 18:50:51     17:57:27      Evening 16-20  \n",
       "9  2016-07-11 07:25:00     06:46:00  Early Morning 4-8  \n",
       "10 2016-07-12 06:02:00     05:08:00  Early Morning 4-8  \n",
       "11 2016-07-12 12:57:00     12:30:00    Afternoon 12-16  \n",
       "12 2016-07-13 05:23:03     04:49:20  Early Morning 4-8  \n",
       "13 2016-07-13 09:16:19     08:02:53       Morning 8-12  \n",
       "14 2016-07-13 15:35:18     14:23:02    Afternoon 12-16  \n",
       "15 2016-07-13 18:20:51     17:23:18      Evening 16-20  \n",
       "16 2016-07-14 12:36:46     12:01:02    Afternoon 12-16  \n",
       "17 2016-07-14 23:18:52     22:24:13        Night 20-24  \n",
       "18 2016-07-11 10:31:00     10:00:00       Morning 8-12  \n",
       "19 2016-07-11 19:23:00     18:45:00      Evening 16-20  \n",
       "20 2016-07-12 12:23:00     11:17:00       Morning 8-12  \n",
       "21 2016-07-12 16:40:00     15:46:00    Afternoon 12-16  \n",
       "22 2016-07-12 18:28:00     18:00:00      Evening 16-20  \n",
       "23 2016-07-13 09:22:37     08:17:29       Morning 8-12  \n",
       "24 2016-07-13 22:51:23     21:54:18        Night 20-24  "
      ]
     },
     "execution_count": 125,
     "metadata": {},
     "output_type": "execute_result"
    }
   ],
   "source": [
    "uber_reqc.head(25)"
   ]
  },
  {
   "cell_type": "code",
   "execution_count": 126,
   "metadata": {},
   "outputs": [
    {
     "name": "stdout",
     "output_type": "stream",
     "text": [
      "<class 'pandas.core.frame.DataFrame'>\n",
      "RangeIndex: 6745 entries, 0 to 6744\n",
      "Data columns (total 8 columns):\n",
      " #   Column             Non-Null Count  Dtype         \n",
      "---  ------             --------------  -----         \n",
      " 0   Request id         6745 non-null   int64         \n",
      " 1   Pickup point       6745 non-null   object        \n",
      " 2   Driver id          4095 non-null   float64       \n",
      " 3   Status             6745 non-null   object        \n",
      " 4   Request timestamp  6745 non-null   datetime64[ns]\n",
      " 5   Drop timestamp     2831 non-null   datetime64[ns]\n",
      " 6   Request time       6745 non-null   object        \n",
      " 7   Day part           6745 non-null   category      \n",
      "dtypes: category(1), datetime64[ns](2), float64(1), int64(1), object(3)\n",
      "memory usage: 375.8+ KB\n"
     ]
    }
   ],
   "source": [
    "uber_reqc.info()"
   ]
  },
  {
   "cell_type": "code",
   "execution_count": 127,
   "metadata": {},
   "outputs": [
    {
     "data": {
      "text/plain": [
       "Trip Completed       2831\n",
       "No Cars Available    2650\n",
       "Cancelled            1264\n",
       "Name: Status, dtype: int64"
      ]
     },
     "execution_count": 127,
     "metadata": {},
     "output_type": "execute_result"
    }
   ],
   "source": [
    "uber_reqc[\"Status\"].value_counts()"
   ]
  },
  {
   "cell_type": "markdown",
   "metadata": {},
   "source": [
    "# 1.Visually identify the most pressing problems for Uber.\n"
   ]
  },
  {
   "cell_type": "markdown",
   "metadata": {},
   "source": [
    "##  a. Create plots to visualize the frequency of requests that get canceled or show 'no cars available';"
   ]
  },
  {
   "cell_type": "code",
   "execution_count": 128,
   "metadata": {},
   "outputs": [
    {
     "data": {
      "text/plain": [
       "Text(0.5, 1.0, 'Frequency of Requests')"
      ]
     },
     "execution_count": 128,
     "metadata": {},
     "output_type": "execute_result"
    },
    {
     "data": {
      "image/png": "[encoded data removed]",
      "text/plain": [
       "<Figure size 648x504 with 1 Axes>"
      ]
     },
     "metadata": {
      "needs_background": "light"
     },
     "output_type": "display_data"
    }
   ],
   "source": [
    "plt.figure(figsize=(9, 7))\n",
    "status_plot = sns.countplot(x ='Status', data = uber_reqc)\n",
    "for p in status_plot.patches:\n",
    "    status_plot.annotate(format(p.get_height() ), \n",
    "                   (p.get_x() + p.get_width() / 2., p.get_height()), \n",
    "                   ha = 'center', va = 'center', \n",
    "                   xytext = (0, 9), \n",
    "                   textcoords = 'offset points')\n",
    "plt.xticks(rotation = 0)\n",
    "plt.xlabel('Status of the Ride',fontdict={'fontsize': 15})\n",
    "plt.ylabel('Frequency',fontdict={'fontsize': 15})\n",
    "plt.title('Frequency of Requests',\n",
    "          fontweight=\"bold\",fontdict={'fontsize': 20},pad=20)"
   ]
  },
  {
   "cell_type": "markdown",
   "metadata": {},
   "source": [
    "We can see that \"Cancelled\" status and \"No Cars Available\" together has more counts than \"Trip Completed\" Status.Hence we can assume that trip completed status as supply and the rest two statuses as Demand."
   ]
  },
  {
   "cell_type": "code",
   "execution_count": 129,
   "metadata": {},
   "outputs": [
    {
     "data": {
      "text/plain": [
       "Text(0.5, 1.0, 'Number of requests from Airport and City')"
      ]
     },
     "execution_count": 129,
     "metadata": {},
     "output_type": "execute_result"
    },
    {
     "data": {
      "image/png": "[encoded data removed]",
      "text/plain": [
       "<Figure size 648x504 with 1 Axes>"
      ]
     },
     "metadata": {
      "needs_background": "light"
     },
     "output_type": "display_data"
    }
   ],
   "source": [
    "plt.figure(figsize=(9, 7))\n",
    "pickup_plot = sns.countplot(x ='Pickup point', data = uber_reqc)\n",
    "for p in pickup_plot.patches:\n",
    "    pickup_plot.annotate(format(p.get_height() ), \n",
    "                   (p.get_x() + p.get_width() / 2., p.get_height()), \n",
    "                   ha = 'center', va = 'center', \n",
    "                   xytext = (0, 9), \n",
    "                   textcoords = 'offset points')\n",
    "plt.xticks(rotation = 0)\n",
    "plt.xlabel('Pick up point',fontdict={'fontsize': 15})\n",
    "plt.ylabel('Number of requests',fontdict={'fontsize': 15})\n",
    "plt.title('Number of requests from Airport and City',\n",
    "          fontweight=\"bold\",fontdict={'fontsize': 20},pad=20)"
   ]
  },
  {
   "cell_type": "markdown",
   "metadata": {},
   "source": [
    "Number of requests are more from Cities compared to Airport\n"
   ]
  },
  {
   "cell_type": "code",
   "execution_count": 130,
   "metadata": {},
   "outputs": [
    {
     "data": {
      "text/plain": [
       "Text(0.5, 1.0, 'Number of requests from different time slots of the Day')"
      ]
     },
     "execution_count": 130,
     "metadata": {},
     "output_type": "execute_result"
    },
    {
     "data": {
      "image/png": "[encoded data removed]",
      "text/plain": [
       "<Figure size 648x504 with 1 Axes>"
      ]
     },
     "metadata": {
      "needs_background": "light"
     },
     "output_type": "display_data"
    }
   ],
   "source": [
    "plt.figure(figsize=(9, 7))\n",
    "day_plot = sns.countplot(x ='Day part', data = uber_reqc)\n",
    "for p in day_plot.patches:\n",
    "    day_plot.annotate(format(p.get_height() ), \n",
    "                   (p.get_x() + p.get_width() / 2., p.get_height()), \n",
    "                   ha = 'center', va = 'center', \n",
    "                   xytext = (0, 9), \n",
    "                   textcoords = 'offset points')\n",
    "plt.xticks(rotation = 0)\n",
    "plt.xlabel('Pick up point',fontdict={'fontsize': 15})\n",
    "plt.ylabel('Number of requests',fontdict={'fontsize': 15})\n",
    "plt.title('Number of requests from different time slots of the Day',\n",
    "          fontweight=\"bold\",fontdict={'fontsize': 20},pad=20)"
   ]
  },
  {
   "cell_type": "markdown",
   "metadata": {},
   "source": [
    "## b.identify the most problematic types of requests (city to airport/airport to city etc.) and the time slots (early mornings, late evenings etc.) using plots"
   ]
  },
  {
   "cell_type": "code",
   "execution_count": 131,
   "metadata": {},
   "outputs": [],
   "source": [
    "#Considering problematic types of requests(i.e., Rides getting Cancelled or No cars Available) \n",
    "#so filtering the dataframe with only cancelled and no cars available statuses\n",
    "uber = uber_reqc[(uber_reqc[\"Status\"]==\"Cancelled\") | (uber_reqc[\"Status\"]==\"No Cars Available\")]"
   ]
  },
  {
   "cell_type": "code",
   "execution_count": 132,
   "metadata": {},
   "outputs": [
    {
     "data": {
      "text/plain": [
       "Text(0.5, 1.0, 'Number of Problematic requests( Rides getting Cancelled or No cars Available) from Pickup point')"
      ]
     },
     "execution_count": 132,
     "metadata": {},
     "output_type": "execute_result"
    },
    {
     "data": {
      "image/png": "[encoded data removed]",
      "text/plain": [
       "<Figure size 648x504 with 1 Axes>"
      ]
     },
     "metadata": {
      "needs_background": "light"
     },
     "output_type": "display_data"
    }
   ],
   "source": [
    "plt.figure(figsize=(9, 7))\n",
    "pstatus_plot = sns.countplot(x ='Pickup point', data = uber)\n",
    "for p in pstatus_plot.patches:\n",
    "    pstatus_plot.annotate(format(p.get_height() ), \n",
    "                   (p.get_x() + p.get_width() / 2., p.get_height()), \n",
    "                   ha = 'center', va = 'center', \n",
    "                   xytext = (0, 9), \n",
    "                   textcoords = 'offset points')\n",
    "plt.xticks(rotation = 0)\n",
    "plt.xlabel('Pick up point',fontdict={'fontsize': 15})\n",
    "plt.ylabel('Count',fontdict={'fontsize': 15})\n",
    "plt.title('Number of Problematic requests( Rides getting Cancelled or No cars Available) from Pickup point',\n",
    "          fontweight=\"bold\",fontdict={'fontsize': 20},pad=20)"
   ]
  },
  {
   "cell_type": "markdown",
   "metadata": {},
   "source": [
    "The most problematic types of requests(i.e., Rides getting Cancelled or No cars Available) are from city."
   ]
  },
  {
   "cell_type": "code",
   "execution_count": 133,
   "metadata": {},
   "outputs": [
    {
     "data": {
      "text/plain": [
       "Text(0.5, 1.0, 'Number of Problematic requests( Rides getting Cancelled or No cars Available) from different time slots of the day')"
      ]
     },
     "execution_count": 133,
     "metadata": {},
     "output_type": "execute_result"
    },
    {
     "data": {
      "image/png": "[encoded data removed]",
      "text/plain": [
       "<Figure size 720x504 with 1 Axes>"
      ]
     },
     "metadata": {
      "needs_background": "light"
     },
     "output_type": "display_data"
    }
   ],
   "source": [
    "plt.figure(figsize=(10, 7))\n",
    "pday_plot = sns.countplot(x ='Day part', data = uber)\n",
    "for p in pday_plot.patches:\n",
    "    pday_plot.annotate(format(p.get_height() ), \n",
    "                   (p.get_x() + p.get_width() / 2., p.get_height()), \n",
    "                   ha = 'center', va = 'center', \n",
    "                   xytext = (0, 9), \n",
    "                   textcoords = 'offset points')\n",
    "plt.xticks(rotation = 0)\n",
    "plt.xlabel('Time Slots',fontdict={'fontsize': 15})\n",
    "plt.ylabel('Count',fontdict={'fontsize': 15})\n",
    "plt.title('Number of Problematic requests( Rides getting Cancelled or No cars Available) from different time slots of the day',\n",
    "          fontweight=\"bold\",fontdict={'fontsize': 15},pad=20)"
   ]
  },
  {
   "cell_type": "markdown",
   "metadata": {},
   "source": [
    "The most problematic types of requests(i.e., Rides getting Cancelled or No cars Available) are from Evening and night Time-slots and next comes from Early morning and Morning time slots."
   ]
  },
  {
   "cell_type": "markdown",
   "metadata": {},
   "source": [
    "# 2. Find out the gap between supply and demand and show the same using plots."
   ]
  },
  {
   "cell_type": "markdown",
   "metadata": {},
   "source": [
    "Here we assume Supply is where Status of the trip is \"completed\" and Demand is where Status of the trip is \"Cancelled\" or \"No cars Available\""
   ]
  },
  {
   "cell_type": "markdown",
   "metadata": {},
   "source": [
    "## a. Find the time slots when the highest gap exists"
   ]
  },
  {
   "cell_type": "code",
   "execution_count": 134,
   "metadata": {},
   "outputs": [],
   "source": [
    "#Labelling the data \"Supply\" or \"Demand\" based on Status of the trip\n",
    "uber_reqc[\"Supply_Demand\"] = uber_reqc[\"Status\"].apply(lambda x: \"Supply\" if x==\"Trip Completed\" else \"Demand Gap\")"
   ]
  },
  {
   "cell_type": "code",
   "execution_count": 135,
   "metadata": {},
   "outputs": [
    {
     "data": {
      "text/html": [
       "<div>\n",
       "<style scoped>\n",
       "    .dataframe tbody tr th:only-of-type {\n",
       "        vertical-align: middle;\n",
       "    }\n",
       "\n",
       "    .dataframe tbody tr th {\n",
       "        vertical-align: top;\n",
       "    }\n",
       "\n",
       "    .dataframe thead th {\n",
       "        text-align: right;\n",
       "    }\n",
       "</style>\n",
       "<table border=\"1\" class=\"dataframe\">\n",
       "  <thead>\n",
       "    <tr style=\"text-align: right;\">\n",
       "      <th></th>\n",
       "      <th>Request id</th>\n",
       "      <th>Pickup point</th>\n",
       "      <th>Driver id</th>\n",
       "      <th>Status</th>\n",
       "      <th>Request timestamp</th>\n",
       "      <th>Drop timestamp</th>\n",
       "      <th>Request time</th>\n",
       "      <th>Day part</th>\n",
       "      <th>Supply_Demand</th>\n",
       "    </tr>\n",
       "  </thead>\n",
       "  <tbody>\n",
       "    <tr>\n",
       "      <th>0</th>\n",
       "      <td>619</td>\n",
       "      <td>Airport</td>\n",
       "      <td>1.0</td>\n",
       "      <td>Trip Completed</td>\n",
       "      <td>2016-07-11 11:51:00</td>\n",
       "      <td>2016-07-11 13:00:00</td>\n",
       "      <td>11:51:00</td>\n",
       "      <td>Morning 8-12</td>\n",
       "      <td>Supply</td>\n",
       "    </tr>\n",
       "    <tr>\n",
       "      <th>1</th>\n",
       "      <td>867</td>\n",
       "      <td>Airport</td>\n",
       "      <td>1.0</td>\n",
       "      <td>Trip Completed</td>\n",
       "      <td>2016-07-11 17:57:00</td>\n",
       "      <td>2016-07-11 18:47:00</td>\n",
       "      <td>17:57:00</td>\n",
       "      <td>Evening 16-20</td>\n",
       "      <td>Supply</td>\n",
       "    </tr>\n",
       "    <tr>\n",
       "      <th>2</th>\n",
       "      <td>1807</td>\n",
       "      <td>City</td>\n",
       "      <td>1.0</td>\n",
       "      <td>Trip Completed</td>\n",
       "      <td>2016-07-12 09:17:00</td>\n",
       "      <td>2016-07-12 09:58:00</td>\n",
       "      <td>09:17:00</td>\n",
       "      <td>Morning 8-12</td>\n",
       "      <td>Supply</td>\n",
       "    </tr>\n",
       "    <tr>\n",
       "      <th>3</th>\n",
       "      <td>2532</td>\n",
       "      <td>Airport</td>\n",
       "      <td>1.0</td>\n",
       "      <td>Trip Completed</td>\n",
       "      <td>2016-07-12 21:08:00</td>\n",
       "      <td>2016-07-12 22:03:00</td>\n",
       "      <td>21:08:00</td>\n",
       "      <td>Night 20-24</td>\n",
       "      <td>Supply</td>\n",
       "    </tr>\n",
       "    <tr>\n",
       "      <th>4</th>\n",
       "      <td>3112</td>\n",
       "      <td>City</td>\n",
       "      <td>1.0</td>\n",
       "      <td>Trip Completed</td>\n",
       "      <td>2016-07-13 08:33:16</td>\n",
       "      <td>2016-07-13 09:25:47</td>\n",
       "      <td>08:33:16</td>\n",
       "      <td>Morning 8-12</td>\n",
       "      <td>Supply</td>\n",
       "    </tr>\n",
       "    <tr>\n",
       "      <th>...</th>\n",
       "      <td>...</td>\n",
       "      <td>...</td>\n",
       "      <td>...</td>\n",
       "      <td>...</td>\n",
       "      <td>...</td>\n",
       "      <td>...</td>\n",
       "      <td>...</td>\n",
       "      <td>...</td>\n",
       "      <td>...</td>\n",
       "    </tr>\n",
       "    <tr>\n",
       "      <th>6740</th>\n",
       "      <td>6745</td>\n",
       "      <td>City</td>\n",
       "      <td>NaN</td>\n",
       "      <td>No Cars Available</td>\n",
       "      <td>2016-07-15 23:49:03</td>\n",
       "      <td>NaT</td>\n",
       "      <td>23:49:03</td>\n",
       "      <td>Night 20-24</td>\n",
       "      <td>Demand Gap</td>\n",
       "    </tr>\n",
       "    <tr>\n",
       "      <th>6741</th>\n",
       "      <td>6752</td>\n",
       "      <td>Airport</td>\n",
       "      <td>NaN</td>\n",
       "      <td>No Cars Available</td>\n",
       "      <td>2016-07-15 23:50:05</td>\n",
       "      <td>NaT</td>\n",
       "      <td>23:50:05</td>\n",
       "      <td>Night 20-24</td>\n",
       "      <td>Demand Gap</td>\n",
       "    </tr>\n",
       "    <tr>\n",
       "      <th>6742</th>\n",
       "      <td>6751</td>\n",
       "      <td>City</td>\n",
       "      <td>NaN</td>\n",
       "      <td>No Cars Available</td>\n",
       "      <td>2016-07-15 23:52:06</td>\n",
       "      <td>NaT</td>\n",
       "      <td>23:52:06</td>\n",
       "      <td>Night 20-24</td>\n",
       "      <td>Demand Gap</td>\n",
       "    </tr>\n",
       "    <tr>\n",
       "      <th>6743</th>\n",
       "      <td>6754</td>\n",
       "      <td>City</td>\n",
       "      <td>NaN</td>\n",
       "      <td>No Cars Available</td>\n",
       "      <td>2016-07-15 23:54:39</td>\n",
       "      <td>NaT</td>\n",
       "      <td>23:54:39</td>\n",
       "      <td>Night 20-24</td>\n",
       "      <td>Demand Gap</td>\n",
       "    </tr>\n",
       "    <tr>\n",
       "      <th>6744</th>\n",
       "      <td>6753</td>\n",
       "      <td>Airport</td>\n",
       "      <td>NaN</td>\n",
       "      <td>No Cars Available</td>\n",
       "      <td>2016-07-15 23:55:03</td>\n",
       "      <td>NaT</td>\n",
       "      <td>23:55:03</td>\n",
       "      <td>Night 20-24</td>\n",
       "      <td>Demand Gap</td>\n",
       "    </tr>\n",
       "  </tbody>\n",
       "</table>\n",
       "<p>6745 rows × 9 columns</p>\n",
       "</div>"
      ],
      "text/plain": [
       "      Request id Pickup point  Driver id             Status  \\\n",
       "0            619      Airport        1.0     Trip Completed   \n",
       "1            867      Airport        1.0     Trip Completed   \n",
       "2           1807         City        1.0     Trip Completed   \n",
       "3           2532      Airport        1.0     Trip Completed   \n",
       "4           3112         City        1.0     Trip Completed   \n",
       "...          ...          ...        ...                ...   \n",
       "6740        6745         City        NaN  No Cars Available   \n",
       "6741        6752      Airport        NaN  No Cars Available   \n",
       "6742        6751         City        NaN  No Cars Available   \n",
       "6743        6754         City        NaN  No Cars Available   \n",
       "6744        6753      Airport        NaN  No Cars Available   \n",
       "\n",
       "       Request timestamp      Drop timestamp Request time       Day part  \\\n",
       "0    2016-07-11 11:51:00 2016-07-11 13:00:00     11:51:00   Morning 8-12   \n",
       "1    2016-07-11 17:57:00 2016-07-11 18:47:00     17:57:00  Evening 16-20   \n",
       "2    2016-07-12 09:17:00 2016-07-12 09:58:00     09:17:00   Morning 8-12   \n",
       "3    2016-07-12 21:08:00 2016-07-12 22:03:00     21:08:00    Night 20-24   \n",
       "4    2016-07-13 08:33:16 2016-07-13 09:25:47     08:33:16   Morning 8-12   \n",
       "...                  ...                 ...          ...            ...   \n",
       "6740 2016-07-15 23:49:03                 NaT     23:49:03    Night 20-24   \n",
       "6741 2016-07-15 23:50:05                 NaT     23:50:05    Night 20-24   \n",
       "6742 2016-07-15 23:52:06                 NaT     23:52:06    Night 20-24   \n",
       "6743 2016-07-15 23:54:39                 NaT     23:54:39    Night 20-24   \n",
       "6744 2016-07-15 23:55:03                 NaT     23:55:03    Night 20-24   \n",
       "\n",
       "     Supply_Demand  \n",
       "0           Supply  \n",
       "1           Supply  \n",
       "2           Supply  \n",
       "3           Supply  \n",
       "4           Supply  \n",
       "...            ...  \n",
       "6740    Demand Gap  \n",
       "6741    Demand Gap  \n",
       "6742    Demand Gap  \n",
       "6743    Demand Gap  \n",
       "6744    Demand Gap  \n",
       "\n",
       "[6745 rows x 9 columns]"
      ]
     },
     "execution_count": 135,
     "metadata": {},
     "output_type": "execute_result"
    }
   ],
   "source": [
    "uber_reqc"
   ]
  },
  {
   "cell_type": "code",
   "execution_count": 136,
   "metadata": {},
   "outputs": [
    {
     "name": "stdout",
     "output_type": "stream",
     "text": [
      "Supply_Demand      Demand Gap  Supply\n",
      "Day part                             \n",
      "Midnight 0-4              239     136\n",
      "Early Morning 4-8         848     604\n",
      "Morning 8-12              709     559\n",
      "Afternoon 12-16           251     400\n",
      "Evening 16-20             988     572\n",
      "Night 20-24               879     560\n"
     ]
    },
    {
     "data": {
      "text/plain": [
       "Text(0.5, 1.0, 'Supply and Demand from different time slots of the day')"
      ]
     },
     "execution_count": 136,
     "metadata": {},
     "output_type": "execute_result"
    },
    {
     "data": {
      "text/plain": [
       "<Figure size 2160x1800 with 0 Axes>"
      ]
     },
     "metadata": {},
     "output_type": "display_data"
    },
    {
     "data": {
      "image/png": "[encoded data removed]",
      "text/plain": [
       "<Figure size 432x288 with 1 Axes>"
      ]
     },
     "metadata": {
      "needs_background": "light"
     },
     "output_type": "display_data"
    }
   ],
   "source": [
    "plt.figure(figsize=(30, 25))\n",
    "CrosstabResult=pd.crosstab(index=uber_reqc['Day part'],columns=uber_reqc['Supply_Demand'])\n",
    "print(CrosstabResult)\n",
    " \n",
    "# Grouped bar chart between \"Day part\" and \"Supply_Demand\" columns\n",
    "splot = CrosstabResult.plot.bar(width = 0.8)\n",
    "for p in splot.patches:\n",
    "    splot.annotate(format(p.get_height() ), \n",
    "                   (p.get_x() + p.get_width() / 2., p.get_height()), \n",
    "                   ha = 'center', va = 'center', \n",
    "                   xytext = (0, 5), \n",
    "                   textcoords = 'offset points')\n",
    "plt.xticks(rotation = 90)\n",
    "plt.xlabel('Time Slots',fontdict={'fontsize': 15})\n",
    "plt.ylabel('Count',fontdict={'fontsize': 15})\n",
    "plt.title('Supply and Demand from different time slots of the day',\n",
    "          fontweight=\"bold\",fontdict={'fontsize': 20},pad=20)"
   ]
  },
  {
   "cell_type": "markdown",
   "metadata": {},
   "source": [
    "The highest gap exists in 2 slots, where two are from \"Evening and Night\" which can be considered as evening slots.\n"
   ]
  },
  {
   "cell_type": "markdown",
   "metadata": {},
   "source": [
    "## b. Find the types of requests (city-airport or airport-city) for which the gap is the most severe in the identified time slots"
   ]
  },
  {
   "cell_type": "code",
   "execution_count": 137,
   "metadata": {},
   "outputs": [
    {
     "name": "stdout",
     "output_type": "stream",
     "text": [
      "Supply_Demand  Demand Gap  Supply\n",
      "Pickup point                     \n",
      "Airport              1911    1327\n",
      "City                 2003    1504\n"
     ]
    },
    {
     "data": {
      "text/plain": [
       "Text(0.5, 1.0, 'Supply and Demand from different  pickup point')"
      ]
     },
     "execution_count": 137,
     "metadata": {},
     "output_type": "execute_result"
    },
    {
     "data": {
      "text/plain": [
       "<Figure size 720x792 with 0 Axes>"
      ]
     },
     "metadata": {},
     "output_type": "display_data"
    },
    {
     "data": {
      "image/png": "[encoded data removed]",
      "text/plain": [
       "<Figure size 432x288 with 1 Axes>"
      ]
     },
     "metadata": {
      "needs_background": "light"
     },
     "output_type": "display_data"
    }
   ],
   "source": [
    "plt.figure(figsize=(10, 11))\n",
    "gap_requests=pd.crosstab(index=uber_reqc['Pickup point'],columns=uber_reqc['Supply_Demand'])\n",
    "print(gap_requests)\n",
    " \n",
    "# Grouped bar chart between \"Supply_Demand\" and \"Pickup point\"\n",
    "gap_requests_plot = gap_requests.plot.bar(width = 0.8)\n",
    "for p in gap_requests_plot.patches:\n",
    "    gap_requests_plot.annotate(format(p.get_height() ), \n",
    "                   (p.get_x() + p.get_width() / 2., p.get_height()), \n",
    "                   ha = 'center', va = 'center', \n",
    "                   xytext = (0, -9), \n",
    "                   textcoords = 'offset points')\n",
    "plt.xticks(rotation = 0)\n",
    "plt.xlabel('Request from Pickup point',fontdict={'fontsize': 15})\n",
    "plt.ylabel('Count',fontdict={'fontsize': 15})\n",
    "plt.title('Supply and Demand from different  pickup point',\n",
    "          fontweight=\"bold\",fontdict={'fontsize': 20},pad=20)"
   ]
  },
  {
   "cell_type": "markdown",
   "metadata": {},
   "source": [
    "Both have almost same supply demand gap but request coming from Airport has more gap.\n",
    "\n"
   ]
  },
  {
   "cell_type": "code",
   "execution_count": 138,
   "metadata": {},
   "outputs": [
    {
     "name": "stdout",
     "output_type": "stream",
     "text": [
      "Pickup point         Airport              City       \n",
      "Supply_Demand     Demand Gap Supply Demand Gap Supply\n",
      "Day part                                             \n",
      "Midnight 0-4            1.69   0.99       1.85   1.02\n",
      "Early Morning 4-8       0.87   4.11      11.70   4.85\n",
      "Morning 8-12            0.86   3.60       9.65   4.68\n",
      "Afternoon 12-16         1.35   2.77       2.37   3.16\n",
      "Evening 16-20          12.81   4.09       1.84   4.39\n",
      "Night 20-24            10.75   4.11       2.28   4.20\n"
     ]
    },
    {
     "data": {
      "text/plain": [
       "<matplotlib.legend.Legend at 0x15369b51610>"
      ]
     },
     "execution_count": 138,
     "metadata": {},
     "output_type": "execute_result"
    },
    {
     "data": {
      "text/plain": [
       "<Figure size 2160x2520 with 0 Axes>"
      ]
     },
     "metadata": {},
     "output_type": "display_data"
    },
    {
     "data": {
      "image/png": "[encoded data removed]",
      "text/plain": [
       "<Figure size 432x288 with 1 Axes>"
      ]
     },
     "metadata": {
      "needs_background": "light"
     },
     "output_type": "display_data"
    }
   ],
   "source": [
    "plt.figure(figsize=(30,35))\n",
    "gap_request_day = pd.crosstab(uber_reqc[\"Day part\"], [uber_reqc[\"Pickup point\"],\n",
    "                               uber_reqc[\"Supply_Demand\"]],normalize=\"all\")\n",
    "print(round(gap_request_day*100,2))\n",
    " \n",
    "# Grouped bar chart between \"Day part\",\"Supply_Demand\" and \"Pickup point\"\n",
    "a = gap_request_day.plot(kind='bar', rot=90)\n",
    "plt.xlabel('Part of the day',fontdict={'fontsize': 15})\n",
    "plt.ylabel('Count',fontdict={'fontsize': 15})\n",
    "plt.title('Supply and Demand from different pickup point over \\n different time slots of the day',\n",
    "          fontweight=\"bold\",fontdict={'fontsize': 20},pad=20)\n",
    "plt.legend(bbox_to_anchor =(1, 0.85))"
   ]
  },
  {
   "cell_type": "markdown",
   "metadata": {},
   "source": [
    "a. The highest gap exists in 4 slots one is from \"Early Morning(Demand is 11.7% and supply is 4.85%) and Morning(Demand is 9.65% and supply is 4.68%)\" which can be considered as morning slots itself and most of the requests are coming from City.\n",
    "b. Other is from \"Evening(Demand is 12.81% and Supply is 4.09%) and Night(Demand is 10.75% and Suppply is 4.11%)\" which can be considered as night slots itself and most of the requests are coming from Airport"
   ]
  },
  {
   "cell_type": "markdown",
   "metadata": {},
   "source": [
    "# What do you think is the reason for this issue for the supply-demand gap? Write the answer in less than 100 words. You may accompany the write-up with plot(s)."
   ]
  },
  {
   "cell_type": "code",
   "execution_count": 139,
   "metadata": {},
   "outputs": [],
   "source": [
    "#Where Status of the rides are \"Cancelled\"\n",
    "#so filtering the dataframe with only cancelled status and Trip completed Status\n",
    "uber_c = uber_reqc[(uber_reqc[\"Status\"]==\"Cancelled\") | (uber_reqc[\"Status\"]==\"Trip Completed\")]"
   ]
  },
  {
   "cell_type": "code",
   "execution_count": 140,
   "metadata": {},
   "outputs": [
    {
     "data": {
      "text/html": [
       "<div>\n",
       "<style scoped>\n",
       "    .dataframe tbody tr th:only-of-type {\n",
       "        vertical-align: middle;\n",
       "    }\n",
       "\n",
       "    .dataframe tbody tr th {\n",
       "        vertical-align: top;\n",
       "    }\n",
       "\n",
       "    .dataframe thead th {\n",
       "        text-align: right;\n",
       "    }\n",
       "</style>\n",
       "<table border=\"1\" class=\"dataframe\">\n",
       "  <thead>\n",
       "    <tr style=\"text-align: right;\">\n",
       "      <th></th>\n",
       "      <th>Request id</th>\n",
       "      <th>Pickup point</th>\n",
       "      <th>Driver id</th>\n",
       "      <th>Status</th>\n",
       "      <th>Request timestamp</th>\n",
       "      <th>Drop timestamp</th>\n",
       "      <th>Request time</th>\n",
       "      <th>Day part</th>\n",
       "      <th>Supply_Demand</th>\n",
       "    </tr>\n",
       "  </thead>\n",
       "  <tbody>\n",
       "    <tr>\n",
       "      <th>0</th>\n",
       "      <td>619</td>\n",
       "      <td>Airport</td>\n",
       "      <td>1.0</td>\n",
       "      <td>Trip Completed</td>\n",
       "      <td>2016-07-11 11:51:00</td>\n",
       "      <td>2016-07-11 13:00:00</td>\n",
       "      <td>11:51:00</td>\n",
       "      <td>Morning 8-12</td>\n",
       "      <td>Supply</td>\n",
       "    </tr>\n",
       "    <tr>\n",
       "      <th>1</th>\n",
       "      <td>867</td>\n",
       "      <td>Airport</td>\n",
       "      <td>1.0</td>\n",
       "      <td>Trip Completed</td>\n",
       "      <td>2016-07-11 17:57:00</td>\n",
       "      <td>2016-07-11 18:47:00</td>\n",
       "      <td>17:57:00</td>\n",
       "      <td>Evening 16-20</td>\n",
       "      <td>Supply</td>\n",
       "    </tr>\n",
       "    <tr>\n",
       "      <th>2</th>\n",
       "      <td>1807</td>\n",
       "      <td>City</td>\n",
       "      <td>1.0</td>\n",
       "      <td>Trip Completed</td>\n",
       "      <td>2016-07-12 09:17:00</td>\n",
       "      <td>2016-07-12 09:58:00</td>\n",
       "      <td>09:17:00</td>\n",
       "      <td>Morning 8-12</td>\n",
       "      <td>Supply</td>\n",
       "    </tr>\n",
       "    <tr>\n",
       "      <th>3</th>\n",
       "      <td>2532</td>\n",
       "      <td>Airport</td>\n",
       "      <td>1.0</td>\n",
       "      <td>Trip Completed</td>\n",
       "      <td>2016-07-12 21:08:00</td>\n",
       "      <td>2016-07-12 22:03:00</td>\n",
       "      <td>21:08:00</td>\n",
       "      <td>Night 20-24</td>\n",
       "      <td>Supply</td>\n",
       "    </tr>\n",
       "    <tr>\n",
       "      <th>4</th>\n",
       "      <td>3112</td>\n",
       "      <td>City</td>\n",
       "      <td>1.0</td>\n",
       "      <td>Trip Completed</td>\n",
       "      <td>2016-07-13 08:33:16</td>\n",
       "      <td>2016-07-13 09:25:47</td>\n",
       "      <td>08:33:16</td>\n",
       "      <td>Morning 8-12</td>\n",
       "      <td>Supply</td>\n",
       "    </tr>\n",
       "    <tr>\n",
       "      <th>...</th>\n",
       "      <td>...</td>\n",
       "      <td>...</td>\n",
       "      <td>...</td>\n",
       "      <td>...</td>\n",
       "      <td>...</td>\n",
       "      <td>...</td>\n",
       "      <td>...</td>\n",
       "      <td>...</td>\n",
       "      <td>...</td>\n",
       "    </tr>\n",
       "    <tr>\n",
       "      <th>4090</th>\n",
       "      <td>1641</td>\n",
       "      <td>City</td>\n",
       "      <td>299.0</td>\n",
       "      <td>Cancelled</td>\n",
       "      <td>2016-07-12 07:20:00</td>\n",
       "      <td>NaT</td>\n",
       "      <td>07:20:00</td>\n",
       "      <td>Early Morning 4-8</td>\n",
       "      <td>Demand Gap</td>\n",
       "    </tr>\n",
       "    <tr>\n",
       "      <th>4091</th>\n",
       "      <td>4158</td>\n",
       "      <td>City</td>\n",
       "      <td>299.0</td>\n",
       "      <td>Cancelled</td>\n",
       "      <td>2016-07-14 05:03:10</td>\n",
       "      <td>NaT</td>\n",
       "      <td>05:03:10</td>\n",
       "      <td>Early Morning 4-8</td>\n",
       "      <td>Demand Gap</td>\n",
       "    </tr>\n",
       "    <tr>\n",
       "      <th>4092</th>\n",
       "      <td>4164</td>\n",
       "      <td>City</td>\n",
       "      <td>299.0</td>\n",
       "      <td>Cancelled</td>\n",
       "      <td>2016-07-14 05:06:40</td>\n",
       "      <td>NaT</td>\n",
       "      <td>05:06:40</td>\n",
       "      <td>Early Morning 4-8</td>\n",
       "      <td>Demand Gap</td>\n",
       "    </tr>\n",
       "    <tr>\n",
       "      <th>4093</th>\n",
       "      <td>4448</td>\n",
       "      <td>City</td>\n",
       "      <td>299.0</td>\n",
       "      <td>Cancelled</td>\n",
       "      <td>2016-07-14 08:30:59</td>\n",
       "      <td>NaT</td>\n",
       "      <td>08:30:59</td>\n",
       "      <td>Morning 8-12</td>\n",
       "      <td>Demand Gap</td>\n",
       "    </tr>\n",
       "    <tr>\n",
       "      <th>4094</th>\n",
       "      <td>4225</td>\n",
       "      <td>City</td>\n",
       "      <td>300.0</td>\n",
       "      <td>Cancelled</td>\n",
       "      <td>2016-07-14 05:46:06</td>\n",
       "      <td>NaT</td>\n",
       "      <td>05:46:06</td>\n",
       "      <td>Early Morning 4-8</td>\n",
       "      <td>Demand Gap</td>\n",
       "    </tr>\n",
       "  </tbody>\n",
       "</table>\n",
       "<p>4095 rows × 9 columns</p>\n",
       "</div>"
      ],
      "text/plain": [
       "      Request id Pickup point  Driver id          Status   Request timestamp  \\\n",
       "0            619      Airport        1.0  Trip Completed 2016-07-11 11:51:00   \n",
       "1            867      Airport        1.0  Trip Completed 2016-07-11 17:57:00   \n",
       "2           1807         City        1.0  Trip Completed 2016-07-12 09:17:00   \n",
       "3           2532      Airport        1.0  Trip Completed 2016-07-12 21:08:00   \n",
       "4           3112         City        1.0  Trip Completed 2016-07-13 08:33:16   \n",
       "...          ...          ...        ...             ...                 ...   \n",
       "4090        1641         City      299.0       Cancelled 2016-07-12 07:20:00   \n",
       "4091        4158         City      299.0       Cancelled 2016-07-14 05:03:10   \n",
       "4092        4164         City      299.0       Cancelled 2016-07-14 05:06:40   \n",
       "4093        4448         City      299.0       Cancelled 2016-07-14 08:30:59   \n",
       "4094        4225         City      300.0       Cancelled 2016-07-14 05:46:06   \n",
       "\n",
       "          Drop timestamp Request time           Day part Supply_Demand  \n",
       "0    2016-07-11 13:00:00     11:51:00       Morning 8-12        Supply  \n",
       "1    2016-07-11 18:47:00     17:57:00      Evening 16-20        Supply  \n",
       "2    2016-07-12 09:58:00     09:17:00       Morning 8-12        Supply  \n",
       "3    2016-07-12 22:03:00     21:08:00        Night 20-24        Supply  \n",
       "4    2016-07-13 09:25:47     08:33:16       Morning 8-12        Supply  \n",
       "...                  ...          ...                ...           ...  \n",
       "4090                 NaT     07:20:00  Early Morning 4-8    Demand Gap  \n",
       "4091                 NaT     05:03:10  Early Morning 4-8    Demand Gap  \n",
       "4092                 NaT     05:06:40  Early Morning 4-8    Demand Gap  \n",
       "4093                 NaT     08:30:59       Morning 8-12    Demand Gap  \n",
       "4094                 NaT     05:46:06  Early Morning 4-8    Demand Gap  \n",
       "\n",
       "[4095 rows x 9 columns]"
      ]
     },
     "execution_count": 140,
     "metadata": {},
     "output_type": "execute_result"
    }
   ],
   "source": [
    "uber_c"
   ]
  },
  {
   "cell_type": "code",
   "execution_count": 141,
   "metadata": {},
   "outputs": [
    {
     "name": "stdout",
     "output_type": "stream",
     "text": [
      "Pickup point         Airport              City       \n",
      "Supply_Demand     Demand Gap Supply Demand Gap Supply\n",
      "Day part                                             \n",
      "Midnight 0-4            0.00   1.64       0.34   1.68\n",
      "Early Morning 4-8       0.37   6.76      12.84   7.99\n",
      "Morning 8-12            0.59   5.93       9.91   7.72\n",
      "Afternoon 12-16         0.88   4.57       0.81   5.20\n",
      "Evening 16-20           1.54   6.74       1.03   7.23\n",
      "Night 20-24             1.47   6.76       1.10   6.91\n"
     ]
    },
    {
     "data": {
      "text/plain": [
       "Text(0.5, 1.0, 'Supply and Demand gap from different pickup point \\n where rides are cancelled over the day')"
      ]
     },
     "execution_count": 141,
     "metadata": {},
     "output_type": "execute_result"
    },
    {
     "data": {
      "text/plain": [
       "<Figure size 2160x1800 with 0 Axes>"
      ]
     },
     "metadata": {},
     "output_type": "display_data"
    },
    {
     "data": {
      "image/png": "[encoded data removed]",
      "text/plain": [
       "<Figure size 432x288 with 1 Axes>"
      ]
     },
     "metadata": {
      "needs_background": "light"
     },
     "output_type": "display_data"
    }
   ],
   "source": [
    "plt.figure(figsize=(30, 25))\n",
    "gap_request_cancel = pd.crosstab(uber_c[\"Day part\"], [uber_c[\"Pickup point\"],\n",
    "                               uber_c[\"Supply_Demand\"]],normalize=\"all\")\n",
    "print(round(gap_request_cancel*100,2))\n",
    "\n",
    "# Grouped bar chart between \"Day part\",\"Supply_Demand\" and \"Pickup point\"\n",
    "\n",
    "gap_request_cancel.plot.bar(width = 0.8)\n",
    "plt.xlabel('Part of the day',fontdict={'fontsize': 15})\n",
    "plt.ylabel('Count',fontdict={'fontsize': 15})\n",
    "plt.title('Supply and Demand gap from different pickup point \\n where rides are cancelled over the day',\n",
    "          fontweight=\"bold\",fontdict={'fontsize': 20},pad=20)"
   ]
  },
  {
   "cell_type": "markdown",
   "metadata": {},
   "source": [
    "The highest gap exists in 2 slots  from \"Early Morning(Demand 12.84% and Supply 7.99%) and Morning(Demand 9.91% and Supply 7.72%)\" which can be considered as morning slots itself and most of the requests are coming from City. \n"
   ]
  },
  {
   "cell_type": "code",
   "execution_count": 142,
   "metadata": {},
   "outputs": [],
   "source": [
    "#Where Status of the rides are \"No Cars Available\"\n",
    "#so filtering the dataframe with only No cars available status and Trip completed Status\n",
    "uber_nca = uber_reqc[(uber_reqc[\"Status\"]==\"No Cars Available\") | (uber_reqc[\"Status\"]==\"Trip Completed\")]"
   ]
  },
  {
   "cell_type": "code",
   "execution_count": 143,
   "metadata": {},
   "outputs": [
    {
     "data": {
      "text/html": [
       "<div>\n",
       "<style scoped>\n",
       "    .dataframe tbody tr th:only-of-type {\n",
       "        vertical-align: middle;\n",
       "    }\n",
       "\n",
       "    .dataframe tbody tr th {\n",
       "        vertical-align: top;\n",
       "    }\n",
       "\n",
       "    .dataframe thead th {\n",
       "        text-align: right;\n",
       "    }\n",
       "</style>\n",
       "<table border=\"1\" class=\"dataframe\">\n",
       "  <thead>\n",
       "    <tr style=\"text-align: right;\">\n",
       "      <th></th>\n",
       "      <th>Request id</th>\n",
       "      <th>Pickup point</th>\n",
       "      <th>Driver id</th>\n",
       "      <th>Status</th>\n",
       "      <th>Request timestamp</th>\n",
       "      <th>Drop timestamp</th>\n",
       "      <th>Request time</th>\n",
       "      <th>Day part</th>\n",
       "      <th>Supply_Demand</th>\n",
       "    </tr>\n",
       "  </thead>\n",
       "  <tbody>\n",
       "    <tr>\n",
       "      <th>0</th>\n",
       "      <td>619</td>\n",
       "      <td>Airport</td>\n",
       "      <td>1.0</td>\n",
       "      <td>Trip Completed</td>\n",
       "      <td>2016-07-11 11:51:00</td>\n",
       "      <td>2016-07-11 13:00:00</td>\n",
       "      <td>11:51:00</td>\n",
       "      <td>Morning 8-12</td>\n",
       "      <td>Supply</td>\n",
       "    </tr>\n",
       "    <tr>\n",
       "      <th>1</th>\n",
       "      <td>867</td>\n",
       "      <td>Airport</td>\n",
       "      <td>1.0</td>\n",
       "      <td>Trip Completed</td>\n",
       "      <td>2016-07-11 17:57:00</td>\n",
       "      <td>2016-07-11 18:47:00</td>\n",
       "      <td>17:57:00</td>\n",
       "      <td>Evening 16-20</td>\n",
       "      <td>Supply</td>\n",
       "    </tr>\n",
       "    <tr>\n",
       "      <th>2</th>\n",
       "      <td>1807</td>\n",
       "      <td>City</td>\n",
       "      <td>1.0</td>\n",
       "      <td>Trip Completed</td>\n",
       "      <td>2016-07-12 09:17:00</td>\n",
       "      <td>2016-07-12 09:58:00</td>\n",
       "      <td>09:17:00</td>\n",
       "      <td>Morning 8-12</td>\n",
       "      <td>Supply</td>\n",
       "    </tr>\n",
       "    <tr>\n",
       "      <th>3</th>\n",
       "      <td>2532</td>\n",
       "      <td>Airport</td>\n",
       "      <td>1.0</td>\n",
       "      <td>Trip Completed</td>\n",
       "      <td>2016-07-12 21:08:00</td>\n",
       "      <td>2016-07-12 22:03:00</td>\n",
       "      <td>21:08:00</td>\n",
       "      <td>Night 20-24</td>\n",
       "      <td>Supply</td>\n",
       "    </tr>\n",
       "    <tr>\n",
       "      <th>4</th>\n",
       "      <td>3112</td>\n",
       "      <td>City</td>\n",
       "      <td>1.0</td>\n",
       "      <td>Trip Completed</td>\n",
       "      <td>2016-07-13 08:33:16</td>\n",
       "      <td>2016-07-13 09:25:47</td>\n",
       "      <td>08:33:16</td>\n",
       "      <td>Morning 8-12</td>\n",
       "      <td>Supply</td>\n",
       "    </tr>\n",
       "    <tr>\n",
       "      <th>...</th>\n",
       "      <td>...</td>\n",
       "      <td>...</td>\n",
       "      <td>...</td>\n",
       "      <td>...</td>\n",
       "      <td>...</td>\n",
       "      <td>...</td>\n",
       "      <td>...</td>\n",
       "      <td>...</td>\n",
       "      <td>...</td>\n",
       "    </tr>\n",
       "    <tr>\n",
       "      <th>6740</th>\n",
       "      <td>6745</td>\n",
       "      <td>City</td>\n",
       "      <td>NaN</td>\n",
       "      <td>No Cars Available</td>\n",
       "      <td>2016-07-15 23:49:03</td>\n",
       "      <td>NaT</td>\n",
       "      <td>23:49:03</td>\n",
       "      <td>Night 20-24</td>\n",
       "      <td>Demand Gap</td>\n",
       "    </tr>\n",
       "    <tr>\n",
       "      <th>6741</th>\n",
       "      <td>6752</td>\n",
       "      <td>Airport</td>\n",
       "      <td>NaN</td>\n",
       "      <td>No Cars Available</td>\n",
       "      <td>2016-07-15 23:50:05</td>\n",
       "      <td>NaT</td>\n",
       "      <td>23:50:05</td>\n",
       "      <td>Night 20-24</td>\n",
       "      <td>Demand Gap</td>\n",
       "    </tr>\n",
       "    <tr>\n",
       "      <th>6742</th>\n",
       "      <td>6751</td>\n",
       "      <td>City</td>\n",
       "      <td>NaN</td>\n",
       "      <td>No Cars Available</td>\n",
       "      <td>2016-07-15 23:52:06</td>\n",
       "      <td>NaT</td>\n",
       "      <td>23:52:06</td>\n",
       "      <td>Night 20-24</td>\n",
       "      <td>Demand Gap</td>\n",
       "    </tr>\n",
       "    <tr>\n",
       "      <th>6743</th>\n",
       "      <td>6754</td>\n",
       "      <td>City</td>\n",
       "      <td>NaN</td>\n",
       "      <td>No Cars Available</td>\n",
       "      <td>2016-07-15 23:54:39</td>\n",
       "      <td>NaT</td>\n",
       "      <td>23:54:39</td>\n",
       "      <td>Night 20-24</td>\n",
       "      <td>Demand Gap</td>\n",
       "    </tr>\n",
       "    <tr>\n",
       "      <th>6744</th>\n",
       "      <td>6753</td>\n",
       "      <td>Airport</td>\n",
       "      <td>NaN</td>\n",
       "      <td>No Cars Available</td>\n",
       "      <td>2016-07-15 23:55:03</td>\n",
       "      <td>NaT</td>\n",
       "      <td>23:55:03</td>\n",
       "      <td>Night 20-24</td>\n",
       "      <td>Demand Gap</td>\n",
       "    </tr>\n",
       "  </tbody>\n",
       "</table>\n",
       "<p>5481 rows × 9 columns</p>\n",
       "</div>"
      ],
      "text/plain": [
       "      Request id Pickup point  Driver id             Status  \\\n",
       "0            619      Airport        1.0     Trip Completed   \n",
       "1            867      Airport        1.0     Trip Completed   \n",
       "2           1807         City        1.0     Trip Completed   \n",
       "3           2532      Airport        1.0     Trip Completed   \n",
       "4           3112         City        1.0     Trip Completed   \n",
       "...          ...          ...        ...                ...   \n",
       "6740        6745         City        NaN  No Cars Available   \n",
       "6741        6752      Airport        NaN  No Cars Available   \n",
       "6742        6751         City        NaN  No Cars Available   \n",
       "6743        6754         City        NaN  No Cars Available   \n",
       "6744        6753      Airport        NaN  No Cars Available   \n",
       "\n",
       "       Request timestamp      Drop timestamp Request time       Day part  \\\n",
       "0    2016-07-11 11:51:00 2016-07-11 13:00:00     11:51:00   Morning 8-12   \n",
       "1    2016-07-11 17:57:00 2016-07-11 18:47:00     17:57:00  Evening 16-20   \n",
       "2    2016-07-12 09:17:00 2016-07-12 09:58:00     09:17:00   Morning 8-12   \n",
       "3    2016-07-12 21:08:00 2016-07-12 22:03:00     21:08:00    Night 20-24   \n",
       "4    2016-07-13 08:33:16 2016-07-13 09:25:47     08:33:16   Morning 8-12   \n",
       "...                  ...                 ...          ...            ...   \n",
       "6740 2016-07-15 23:49:03                 NaT     23:49:03    Night 20-24   \n",
       "6741 2016-07-15 23:50:05                 NaT     23:50:05    Night 20-24   \n",
       "6742 2016-07-15 23:52:06                 NaT     23:52:06    Night 20-24   \n",
       "6743 2016-07-15 23:54:39                 NaT     23:54:39    Night 20-24   \n",
       "6744 2016-07-15 23:55:03                 NaT     23:55:03    Night 20-24   \n",
       "\n",
       "     Supply_Demand  \n",
       "0           Supply  \n",
       "1           Supply  \n",
       "2           Supply  \n",
       "3           Supply  \n",
       "4           Supply  \n",
       "...            ...  \n",
       "6740    Demand Gap  \n",
       "6741    Demand Gap  \n",
       "6742    Demand Gap  \n",
       "6743    Demand Gap  \n",
       "6744    Demand Gap  \n",
       "\n",
       "[5481 rows x 9 columns]"
      ]
     },
     "execution_count": 143,
     "metadata": {},
     "output_type": "execute_result"
    }
   ],
   "source": [
    "uber_nca"
   ]
  },
  {
   "cell_type": "code",
   "execution_count": 144,
   "metadata": {},
   "outputs": [
    {
     "name": "stdout",
     "output_type": "stream",
     "text": [
      "Pickup point         Airport              City       \n",
      "Supply_Demand     Demand Gap Supply Demand Gap Supply\n",
      "Day part                                             \n",
      "Midnight 0-4            2.08   1.22       2.03   1.26\n",
      "Early Morning 4-8       0.80   5.05       4.80   5.97\n",
      "Morning 8-12            0.62   4.43       4.47   5.77\n",
      "Afternoon 12-16         1.00   3.41       2.32   3.89\n",
      "Evening 16-20          14.61   5.04       1.50   5.40\n",
      "Night 20-24            12.13   5.05       1.99   5.16\n"
     ]
    },
    {
     "data": {
      "text/plain": [
       "Text(0.5, 1.0, 'Supply and Demand gap from different pickup point \\n where No cars are Available over the day')"
      ]
     },
     "execution_count": 144,
     "metadata": {},
     "output_type": "execute_result"
    },
    {
     "data": {
      "text/plain": [
       "<Figure size 2160x1800 with 0 Axes>"
      ]
     },
     "metadata": {},
     "output_type": "display_data"
    },
    {
     "data": {
      "image/png": "[encoded data removed]",
      "text/plain": [
       "<Figure size 432x288 with 1 Axes>"
      ]
     },
     "metadata": {
      "needs_background": "light"
     },
     "output_type": "display_data"
    }
   ],
   "source": [
    "plt.figure(figsize=(30, 25))\n",
    "gap_request_nca = pd.crosstab(uber_nca[\"Day part\"], [uber_nca[\"Pickup point\"],\n",
    "                               uber_nca[\"Supply_Demand\"]],normalize=\"all\")\n",
    "print(round(gap_request_nca*100,2))\n",
    "\n",
    "# Grouped bar chart between \"Day part\",\"Supply_Demand\" and \"Pickup point\"\n",
    "\n",
    "gap_request_nca.plot.bar(width = 0.8)\n",
    "plt.xlabel('Part of the day',fontdict={'fontsize': 15})\n",
    "plt.ylabel('Count',fontdict={'fontsize': 15})\n",
    "plt.title('Supply and Demand gap from different pickup point \\n where No cars are Available over the day',\n",
    "          fontweight=\"bold\",fontdict={'fontsize': 20},pad=20)"
   ]
  },
  {
   "cell_type": "markdown",
   "metadata": {},
   "source": [
    "The highest gap exists in 2 slots  from \"Evening(Demand 14.61% and Supply 5.04%) and Night(Demand 12.13% and Supply 5.05%)\" which can be considered as Night slots itself and most of the requests are coming from Airport. \n",
    "Where Status of the rides are \"No Cars Available\"."
   ]
  },
  {
   "cell_type": "markdown",
   "metadata": {},
   "source": [
    "From the above graphs we can think the reason for the issues.\n",
    "1. Drivers may typically earn more money and more rides during the morning hours than they could by accepting rides to airports.\n",
    "    The City to Airport is busier in the morning.\n",
    "    Drivers frequently have to return to the city without any riders because early morning and morning flights typically land less frequently than flights at night hence they cancel the rides.\n",
    "2. There won't be as many drivers working at night as there are during the day because most of the drivers are day shift drivers, and more international planes will land then, increasing demand for cabs during these times, creating a gap between supply and demand.\n",
    "\n"
   ]
  },
  {
   "cell_type": "markdown",
   "metadata": {},
   "source": [
    "# Recommend some ways to resolve the supply-demand gap."
   ]
  },
  {
   "cell_type": "markdown",
   "metadata": {},
   "source": [
    "### For Morning Hours Where Demand is more from City and Cancellation is more."
   ]
  },
  {
   "cell_type": "markdown",
   "metadata": {},
   "source": [
    "1. By paying drivers more if they return without any rides from airport, we can close the pay difference.\n",
    "2. If there is heavy traffic, we might offer the drivers more money before taking the journey to encourage them to accept it.\n",
    "3. There has to be limit for cancellation per day and if the driver exceeds the limit, then penalty has to be imposed."
   ]
  },
  {
   "cell_type": "markdown",
   "metadata": {},
   "source": [
    "### For Evening Hours Where Demand is more from Airport and Status is Cars Unavailable is more."
   ]
  },
  {
   "cell_type": "markdown",
   "metadata": {},
   "source": [
    "1. By charging drivers who work late hours an overtime fee, we can close the disparity.\n",
    "2. We are able to start exclusive night cabs for airport service close to airports."
   ]
  },
  {
   "cell_type": "code",
   "execution_count": null,
   "metadata": {},
   "outputs": [],
   "source": []
  }
 ],
 "metadata": {
  "kernelspec": {
   "display_name": "Python 3 (ipykernel)",
   "language": "python",
   "name": "python3"
  },
  "language_info": {
   "codemirror_mode": {
    "name": "ipython",
    "version": 3
   },
   "file_extension": ".py",
   "mimetype": "text/x-python",
   "name": "python",
   "nbconvert_exporter": "python",
   "pygments_lexer": "ipython3",
   "version": "3.9.12"
  }
 },
 "nbformat": 4,
 "nbformat_minor": 4
}
